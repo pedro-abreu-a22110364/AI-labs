{
 "cells": [
  {
   "cell_type": "code",
   "execution_count": 1,
   "metadata": {},
   "outputs": [],
   "source": [
    "# imports\n",
    "import pandas as pd"
   ]
  },
  {
   "cell_type": "code",
   "execution_count": 2,
   "metadata": {},
   "outputs": [],
   "source": [
    "# Filter the data frame to return the single line that corresponde to the condiction\n",
    "def get_action(condiction,program):\n",
    "    programTemp = program[(program['Symbol'] == condiction[0]) & (program['State'] == condiction[1])]\n",
    "    return [(programTemp['Write'].iloc[0]),(programTemp['Move'].iloc[0]),(programTemp['NextState'].iloc[0])]"
   ]
  },
  {
   "cell_type": "code",
   "execution_count": 3,
   "metadata": {},
   "outputs": [],
   "source": [
    "# dado o programa e a máquina no seu estado atual, devolva a máquina depois de executar uma ação\n",
    "def update_machine(machine,action):\n",
    "    # Update symbol\n",
    "    machine.tape[machine.pos] = action[0]\n",
    "    \n",
    "    # Update pos\n",
    "    if (action[1] == \"R\"):\n",
    "        machine.pos += 1\n",
    "    elif (action[1] == \"L\"):\n",
    "        machine.pos -= 1\n",
    "\n",
    "    # Update state\n",
    "    machine.state = action[2]\n"
   ]
  },
  {
   "cell_type": "code",
   "execution_count": 4,
   "metadata": {},
   "outputs": [],
   "source": [
    "#def run_machine():"
   ]
  },
  {
   "cell_type": "code",
   "execution_count": 5,
   "metadata": {},
   "outputs": [],
   "source": [
    "# Read csv\n",
    "def read_csv(path,delimiter):\n",
    "    return pd.read_csv(path,delimiter=delimiter)"
   ]
  },
  {
   "cell_type": "code",
   "execution_count": 6,
   "metadata": {},
   "outputs": [],
   "source": [
    "# Class Machine\n",
    "class Machine:\n",
    "  def __init__(self, tape, state, pos):\n",
    "    self.tape = tape\n",
    "    self.state = state\n",
    "    self.pos = pos"
   ]
  },
  {
   "cell_type": "code",
   "execution_count": 23,
   "metadata": {},
   "outputs": [
    {
     "name": "stdout",
     "output_type": "stream",
     "text": [
      "  Symbol State Write Move NextState\n",
      "0      0    q0     B    R        q1\n",
      "1      0    q1     B    R        q0\n",
      "2      0    qf   NaN  NaN       NaN\n",
      "3      1    q0     B    R        q0\n",
      "4      1    q1     B    R        q1\n",
      "5      1    qf   NaN  NaN       NaN\n",
      "6      B    q0     0    L        qf\n",
      "7      B    q1     1    L        qf\n",
      "8      B    qf   NaN  NaN       NaN\n"
     ]
    },
    {
     "name": "stdout",
     "output_type": "stream",
     "text": [
      "['0', 'q0']\n",
      "['B', 'B', '0', '1', '0', 'B', 'B']\n",
      "q0\n",
      "2\n",
      "['B', 'R', 'q1']\n",
      "['B', 'B', 'B', '1', '0', 'B', 'B']\n",
      "q1\n",
      "3\n",
      "------------------------------------------------------\n",
      "['B', 'q1']\n",
      "['B', 'B', 'B', '1', '0', 'B', 'B']\n",
      "q1\n",
      "3\n",
      "['1', 'L', 'qf']\n",
      "['B', 'B', 'B', '1', '0', 'B', 'B']\n",
      "qf\n",
      "2\n",
      "------------------------------------------------------\n"
     ]
    }
   ],
   "source": [
    "# Main\n",
    "program = read_csv(\"program.csv\",\";\")\n",
    "print(program)\n",
    "\n",
    "tape = input(\"Insert the input of the machine\")\n",
    "state = input(\"Insert the initial state of the machine\")\n",
    "pos = 2\n",
    "\n",
    "condictionTemp = (tape[pos],state)\n",
    "condiction = list(condictionTemp)\n",
    "\n",
    "machine = Machine([\"B\",\"B\"] + list(tape) + [\"B\",\"B\"],state,pos)\n",
    "\n",
    "while(machine.state != \"qf\"):\n",
    "\n",
    "\n",
    "    print(condiction)\n",
    "\n",
    "    action = get_action(condiction,program)\n",
    "\n",
    "    print(machine.tape)\n",
    "    print(machine.state)\n",
    "    print(machine.pos)\n",
    "\n",
    "    print(action)\n",
    "\n",
    "    update_machine(machine,action)\n",
    "\n",
    "    condiction[0] = machine.tape[pos]\n",
    "    condiction[1] = action[2]\n",
    "\n",
    "    print(machine.tape)\n",
    "    print(machine.state)\n",
    "    print(machine.pos)\n",
    "\n",
    "    print(\"------------------------------------------------------\")\n",
    "\n",
    "    # Just a breakpoint to analyse the machine\n",
    "    breakpoint = input(\"ola\")"
   ]
  }
 ],
 "metadata": {
  "kernelspec": {
   "display_name": "Python 3",
   "language": "python",
   "name": "python3"
  },
  "language_info": {
   "codemirror_mode": {
    "name": "ipython",
    "version": 3
   },
   "file_extension": ".py",
   "mimetype": "text/x-python",
   "name": "python",
   "nbconvert_exporter": "python",
   "pygments_lexer": "ipython3",
   "version": "3.11.9"
  }
 },
 "nbformat": 4,
 "nbformat_minor": 2
}
