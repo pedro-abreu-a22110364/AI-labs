{
 "cells": [
  {
   "cell_type": "code",
   "execution_count": 99,
   "metadata": {},
   "outputs": [],
   "source": [
    "# imports\n",
    "import pandas as pd"
   ]
  },
  {
   "cell_type": "markdown",
   "metadata": {},
   "source": [
    "## Defining the Turing Machine Structure\n",
    "\n",
    "Our Turing machine consists of a tape (which can be represented as a list), a head position (an index in the list), and an internal state. Let's define a simple structure to hold these.\n"
   ]
  },
  {
   "cell_type": "code",
   "execution_count": 122,
   "metadata": {},
   "outputs": [],
   "source": [
    "#classe da maquina\n",
    "class TuringMachine:\n",
    "    #a classe recebe a fita, onde começa a fita, e o estado inicial\n",
    "    def __init__(self, tape, head_position, initial_state):\n",
    "        #dados da maquina\n",
    "        #tape completa\n",
    "        self.tape = tape\n",
    "        #posicao do cursor\n",
    "        self.head_position = head_position\n",
    "        #estado atual iniciado pelo estado inicial\n",
    "        self.state = initial_state\n",
    "    \n",
    "    #funcao que faz o display da fita\n",
    "    def display(self):\n",
    "        print(f\"Tape: {self.tape}\\nHead Position: {self.head_position}\\nState: {self.state}\")\n"
   ]
  },
  {
   "cell_type": "markdown",
   "metadata": {},
   "source": [
    "## Fetching the Action\n",
    "\n",
    "We define `get_action` function to fetch the action for the current condition from the program.\n"
   ]
  },
  {
   "cell_type": "code",
   "execution_count": 123,
   "metadata": {},
   "outputs": [
    {
     "data": {
      "text/html": [
       "<div>\n",
       "<style scoped>\n",
       "    .dataframe tbody tr th:only-of-type {\n",
       "        vertical-align: middle;\n",
       "    }\n",
       "\n",
       "    .dataframe tbody tr th {\n",
       "        vertical-align: top;\n",
       "    }\n",
       "\n",
       "    .dataframe thead th {\n",
       "        text-align: right;\n",
       "    }\n",
       "</style>\n",
       "<table border=\"1\" class=\"dataframe\">\n",
       "  <thead>\n",
       "    <tr style=\"text-align: right;\">\n",
       "      <th></th>\n",
       "      <th>symbol</th>\n",
       "      <th>state</th>\n",
       "      <th>write</th>\n",
       "      <th>move</th>\n",
       "      <th>new-state</th>\n",
       "    </tr>\n",
       "  </thead>\n",
       "  <tbody>\n",
       "    <tr>\n",
       "      <th>0</th>\n",
       "      <td>0</td>\n",
       "      <td>q0</td>\n",
       "      <td>B</td>\n",
       "      <td>R</td>\n",
       "      <td>q1</td>\n",
       "    </tr>\n",
       "    <tr>\n",
       "      <th>1</th>\n",
       "      <td>0</td>\n",
       "      <td>q1</td>\n",
       "      <td>B</td>\n",
       "      <td>R</td>\n",
       "      <td>q0</td>\n",
       "    </tr>\n",
       "    <tr>\n",
       "      <th>2</th>\n",
       "      <td>1</td>\n",
       "      <td>q0</td>\n",
       "      <td>B</td>\n",
       "      <td>R</td>\n",
       "      <td>q0</td>\n",
       "    </tr>\n",
       "    <tr>\n",
       "      <th>3</th>\n",
       "      <td>1</td>\n",
       "      <td>q1</td>\n",
       "      <td>B</td>\n",
       "      <td>R</td>\n",
       "      <td>q1</td>\n",
       "    </tr>\n",
       "    <tr>\n",
       "      <th>4</th>\n",
       "      <td>B</td>\n",
       "      <td>q0</td>\n",
       "      <td>0</td>\n",
       "      <td>L</td>\n",
       "      <td>qf</td>\n",
       "    </tr>\n",
       "    <tr>\n",
       "      <th>5</th>\n",
       "      <td>B</td>\n",
       "      <td>q1</td>\n",
       "      <td>1</td>\n",
       "      <td>L</td>\n",
       "      <td>qf</td>\n",
       "    </tr>\n",
       "    <tr>\n",
       "      <th>6</th>\n",
       "      <td>B</td>\n",
       "      <td>qf</td>\n",
       "      <td>NaN</td>\n",
       "      <td>NaN</td>\n",
       "      <td>NaN</td>\n",
       "    </tr>\n",
       "  </tbody>\n",
       "</table>\n",
       "</div>"
      ],
      "text/plain": [
       "  symbol state write move new-state\n",
       "0      0    q0     B    R        q1\n",
       "1      0    q1     B    R        q0\n",
       "2      1    q0     B    R        q0\n",
       "3      1    q1     B    R        q1\n",
       "4      B    q0     0    L        qf\n",
       "5      B    q1     1    L        qf\n",
       "6      B    qf   NaN  NaN       NaN"
      ]
     },
     "execution_count": 123,
     "metadata": {},
     "output_type": "execute_result"
    }
   ],
   "source": [
    "#carregar o programa via csv file\n",
    "program = pd.read_csv('/Users/zuilpirola/Downloads/turing-machine-example-program.csv',delimiter=';')\n",
    "#print do programa\n",
    "program"
   ]
  },
  {
   "cell_type": "code",
   "execution_count": 124,
   "metadata": {},
   "outputs": [],
   "source": [
    "#funcao que le o programa vindo do csv e gera as instrucoes (acoes)\n",
    "def get_action(condition, program):\n",
    "    # Find the action for the given condition in the program\n",
    "    # criar um dataframe de uma linha a partir \n",
    "    action_row = program[(program['state'] == condition[0]) & (program['symbol'] == condition[1])]\n",
    "    # print(\"row>>>\",action_row)\n",
    "    if not action_row.empty:\n",
    "        return action_row.iloc[0]['write'], action_row.iloc[0]['move'], action_row.iloc[0]['new-state']\n",
    "    else:\n",
    "        return None\n"
   ]
  },
  {
   "cell_type": "markdown",
   "metadata": {},
   "source": [
    "## Updating the Machine\n",
    "\n",
    "`update_machine` function applies the action to the Turing machine, modifying its tape, head position, and internal state.\n"
   ]
  },
  {
   "cell_type": "code",
   "execution_count": 125,
   "metadata": {},
   "outputs": [],
   "source": [
    "def update_machine(machine, action):\n",
    "    #se uma acao existir\n",
    "    if action:\n",
    "        #desemcapsula ela \n",
    "        new_symbol, direction, new_state = action\n",
    "        #atualiza a posicao atual da fita\n",
    "        machine.tape[machine.head_position] = new_symbol\n",
    "\n",
    "        #com base na direcao atualiza para esquerda ou direita\n",
    "        if direction == 'R':\n",
    "            machine.head_position += 1\n",
    "        elif direction == 'L':\n",
    "            machine.head_position -= 1\n",
    "\n",
    "        #atualiza o novo estado\n",
    "        machine.state = new_state\n",
    "        \n",
    "        # Ensure the tape is long enough\n",
    "        if machine.head_position >= len(machine.tape):\n",
    "            machine.tape.append('B') \n",
    "        elif machine.head_position < 0:\n",
    "            machine.tape.insert(0, 'B')\n",
    "            machine.head_position = 0\n"
   ]
  },
  {
   "cell_type": "markdown",
   "metadata": {},
   "source": [
    "## Running the Machine\n",
    "\n",
    "Finally, `run_machine` function executes the Turing machine, using the `get_action` and `update_machine` functions, until it reaches a final state or there's no action for the current state.\n"
   ]
  },
  {
   "cell_type": "code",
   "execution_count": 126,
   "metadata": {},
   "outputs": [],
   "source": [
    "def run_machine(machine, program):\n",
    "\n",
    "    #correr até chegar em qf\n",
    "    while True:\n",
    "        #cria a tupla da acao com base na condição extraída da tabela do programa\n",
    "        condition = (machine.state, machine.tape[machine.head_position])\n",
    "        action = get_action(condition, program)\n",
    "\n",
    "        #funcao que atualiza a maquina com base na acao atual\n",
    "        update_machine(machine, action)\n",
    "        \n",
    "        #condicao de saída\n",
    "        if action[2] == 'qf':\n",
    "            break\n",
    "\n",
    "        #print da situação atual        \n",
    "        machine.display()\n"
   ]
  },
  {
   "cell_type": "markdown",
   "metadata": {},
   "source": [
    "## Execution Example\n",
    "\n",
    "Let's put all the pieces together and run our Turing machine with an example program and input.\n"
   ]
  },
  {
   "cell_type": "code",
   "execution_count": 127,
   "metadata": {},
   "outputs": [
    {
     "name": "stdout",
     "output_type": "stream",
     "text": [
      "Tape: ['B', 'B', '0', '0', '0', 'B', 'B', 'B']\n",
      "Head Position: 2\n",
      "State: q0\n",
      "Tape: ['B', 'B', 'B', '0', '0', 'B', 'B', 'B']\n",
      "Head Position: 3\n",
      "State: q1\n",
      "Tape: ['B', 'B', 'B', 'B', '0', 'B', 'B', 'B']\n",
      "Head Position: 4\n",
      "State: q0\n",
      "Tape: ['B', 'B', 'B', 'B', 'B', 'B', 'B', 'B']\n",
      "Head Position: 5\n",
      "State: q1\n",
      "Tape: ['B', 'B', 'B', 'B', 'B', '1', 'B', 'B']\n",
      "Head Position: 4\n",
      "State: qf\n"
     ]
    }
   ],
   "source": [
    "# Input\n",
    "initial_tape = ['B', 'B', '0', '0', '0', 'B', 'B','B']\n",
    "head_position = 2\n",
    "initial_state = 'q0'\n",
    "\n",
    "# Initialize the machine\n",
    "machine = TuringMachine(initial_tape, head_position, initial_state)\n",
    "\n",
    "# Display do status inicial\n",
    "machine.display()\n",
    "\n",
    "# print()\n",
    "run_machine(machine, program)\n",
    "\n",
    "# Display do status Final\n",
    "machine.display()\n"
   ]
  }
 ],
 "metadata": {
  "kernelspec": {
   "display_name": "data_science",
   "language": "python",
   "name": "python3"
  },
  "language_info": {
   "codemirror_mode": {
    "name": "ipython",
    "version": 3
   },
   "file_extension": ".py",
   "mimetype": "text/x-python",
   "name": "python",
   "nbconvert_exporter": "python",
   "pygments_lexer": "ipython3",
   "version": "3.8.0"
  }
 },
 "nbformat": 4,
 "nbformat_minor": 2
}
