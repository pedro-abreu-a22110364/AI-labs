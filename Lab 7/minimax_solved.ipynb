{
  "cells": [
    {
      "cell_type": "markdown",
      "metadata": {
        "id": "IBniZsZbvm4w"
      },
      "source": [
        "# Bibliotecas"
      ]
    },
    {
      "cell_type": "code",
      "execution_count": 6,
      "metadata": {
        "id": "OZTwfZiFn73I"
      },
      "outputs": [],
      "source": [
        "#library para plot do grafo\n",
        "import networkx as nx\n",
        "\n",
        "#layout tipo arvore\n",
        "from networkx.drawing.nx_pydot import graphviz_layout\n",
        "\n",
        "#library para plot do grafo\n",
        "import matplotlib.pyplot as plt\n",
        "\n",
        "#biblioteca random\n",
        "import random"
      ]
    },
    {
      "cell_type": "markdown",
      "metadata": {
        "id": "w5IWme3Zwgk8"
      },
      "source": [
        "## Exercício 1:\n",
        "\n",
        "Gerar grafos aleatórios com branching factor b e profundidade d com valor para os elementos da sua base aleatórios de -10 até 10."
      ]
    },
    {
      "cell_type": "markdown",
      "metadata": {
        "id": "yrWkT66U0kN-"
      },
      "source": [
        "a) Para um dado depth factor `d` e para um Branching factor `b`, gere um codigo em python que produza um grafo, representando-o no formato lista de tuplas.\n",
        "\n",
        "Ex: `[(1,2),(1,4), (4,5)....]`\n",
        "\n",
        "Para o caso acima o nó 1 tem uma ligação com o nó dois e 4. O nó 4 tem uma ligação com o nó 5."
      ]
    },
    {
      "cell_type": "code",
      "execution_count": 2,
      "metadata": {
        "colab": {
          "base_uri": "https://localhost:8080/"
        },
        "id": "jnNpzHLyy1j8",
        "outputId": "ba63922a-ee0e-4f29-ad24-0dd2da18ecbb"
      },
      "outputs": [
        {
          "name": "stdout",
          "output_type": "stream",
          "text": [
            "[(0, 1), (1, 2), (2, 3), (2, 4), (1, 5), (5, 6), (5, 7), (0, 8), (8, 9), (9, 10), (9, 11), (8, 12), (12, 13), (12, 14)]\n"
          ]
        }
      ],
      "source": [
        "#funcao gera grafo\n",
        "def generate_tree_graph(depth, branching_factor):\n",
        "  #cria a lista de nomes de nós a partirt do b e do d\n",
        "  list_nodes = sorted(list(range(sum([branching_factor**x for x in range(depth+1)]))),reverse=True)\n",
        "\n",
        "  #lista das tuplas\n",
        "  graph = []\n",
        "\n",
        "  #input: d do grafo e b do grafo\n",
        "  #output: lista de tuplas com nós numericos.\n",
        "  #funcao recursiva\n",
        "  def generate_edges(parent, current_depth,graph):\n",
        "    #condiçao de saida da recursao\n",
        "    #ele vai criando nós até que chegue no d esperado\n",
        "    if current_depth == depth:\n",
        "      return\n",
        "    #para cada nó criado ele vai criar filhos com base no b\n",
        "    for i in range(1, branching_factor + 1):\n",
        "\n",
        "      # cria o nome do child\n",
        "      child = list_nodes.pop(-1)\n",
        "      #faz append da ligacao\n",
        "      graph.append((parent, child))\n",
        "      #gera um novo edge\n",
        "      generate_edges(child, current_depth + 1,graph)\n",
        "\n",
        "  #cria o primeiro nó de nome 1\n",
        "  generate_edges(list_nodes.pop(-1), 0,graph)\n",
        "  return graph\n",
        "# Exemplo de uso:\n",
        "depth = 3\n",
        "branching_factor = 2\n",
        "tree_graph = generate_tree_graph(depth, branching_factor)\n",
        "print(tree_graph)\n"
      ]
    },
    {
      "cell_type": "markdown",
      "metadata": {
        "id": "8u0xPgtq7C2L"
      },
      "source": [
        "b) Em seguinda atribua um valor (utility) ou um valor para os nós na base do grafo. Use um dicionário `labels_dic` para faze-lo. Comece aqui a trabalhar com a biblioteca `networkx` ela é especializada em grafos. (Dica: pesquise o método `.degree` de um grafo)\n",
        "\n",
        "Ex: `{1:'', 2:'', 9:'',...}`"
      ]
    },
    {
      "cell_type": "code",
      "execution_count": 3,
      "metadata": {
        "id": "JlVuG-Pl5goV"
      },
      "outputs": [],
      "source": [
        "#cria o node\n",
        "G = nx.DiGraph()\n",
        "\n",
        "#insere os nós e os edges com base no grafo gerado acima\n",
        "G.add_edges_from(tree_graph)\n",
        "#cria o dicionário\n",
        "labels_dic = {node:random.randint(-10, 10) if G.degree[node]==1 else None for node in G}\n",
        "# labels_dic = {node:random.randint(-10, 10) for node in G}\n",
        "# labels_dic\n"
      ]
    },
    {
      "cell_type": "code",
      "execution_count": 4,
      "metadata": {},
      "outputs": [
        {
          "data": {
            "text/plain": [
              "{0: None,\n",
              " 1: None,\n",
              " 2: None,\n",
              " 3: 6,\n",
              " 4: -5,\n",
              " 5: None,\n",
              " 6: -6,\n",
              " 7: -7,\n",
              " 8: None,\n",
              " 9: None,\n",
              " 10: -10,\n",
              " 11: 7,\n",
              " 12: None,\n",
              " 13: 3,\n",
              " 14: 5}"
            ]
          },
          "execution_count": 4,
          "metadata": {},
          "output_type": "execute_result"
        }
      ],
      "source": [
        "labels_dic"
      ]
    },
    {
      "cell_type": "markdown",
      "metadata": {
        "id": "YaJn5omf7udD"
      },
      "source": [
        "c) Agora vamos tentar imprimir o que gerou. Também faz parte tentar receber funções de outros programadores e tentar atender os parametros de entrada. Utilizando a funcao dada abaixo atenda os requisitos do input e veja o que acontece."
      ]
    },
    {
      "cell_type": "code",
      "execution_count": 5,
      "metadata": {
        "colab": {
          "base_uri": "https://localhost:8080/",
          "height": 570
        },
        "id": "WDrbN6xooIUG",
        "outputId": "78984939-c4e8-49d3-c708-83d8d0ee8327"
      },
      "outputs": [
        {
          "name": "stderr",
          "output_type": "stream",
          "text": [
            "C:\\Users\\pedro\\AppData\\Local\\Temp\\ipykernel_12680\\484993115.py:21: DeprecationWarning: nx.nx_pydot.graphviz_layout depends on the pydot package, which hasknown issues and is not actively maintained. Consider usingnx.nx_agraph.graphviz_layout instead.\n",
            "\n",
            "See https://github.com/networkx/networkx/issues/5723\n",
            "  pos = graphviz_layout(G, prog=\"dot\")\n"
          ]
        },
        {
          "ename": "FileNotFoundError",
          "evalue": "[WinError 2] \"dot\" not found in path.",
          "output_type": "error",
          "traceback": [
            "\u001b[1;31m---------------------------------------------------------------------------\u001b[0m",
            "\u001b[1;31mFileNotFoundError\u001b[0m                         Traceback (most recent call last)",
            "File \u001b[1;32m~\\AppData\\Local\\Packages\\PythonSoftwareFoundation.Python.3.11_qbz5n2kfra8p0\\LocalCache\\local-packages\\Python311\\site-packages\\pydot\\core.py:1753\u001b[0m, in \u001b[0;36mDot.create\u001b[1;34m(self, prog, format, encoding)\u001b[0m\n\u001b[0;32m   1752\u001b[0m \u001b[38;5;28;01mtry\u001b[39;00m:\n\u001b[1;32m-> 1753\u001b[0m     stdout_data, stderr_data, process \u001b[38;5;241m=\u001b[39m \u001b[43mcall_graphviz\u001b[49m\u001b[43m(\u001b[49m\n\u001b[0;32m   1754\u001b[0m \u001b[43m        \u001b[49m\u001b[43mprogram\u001b[49m\u001b[38;5;241;43m=\u001b[39;49m\u001b[43mprog\u001b[49m\u001b[43m,\u001b[49m\n\u001b[0;32m   1755\u001b[0m \u001b[43m        \u001b[49m\u001b[43marguments\u001b[49m\u001b[38;5;241;43m=\u001b[39;49m\u001b[43marguments\u001b[49m\u001b[43m,\u001b[49m\n\u001b[0;32m   1756\u001b[0m \u001b[43m        \u001b[49m\u001b[43mworking_dir\u001b[49m\u001b[38;5;241;43m=\u001b[39;49m\u001b[43mtmp_dir\u001b[49m\u001b[43m,\u001b[49m\n\u001b[0;32m   1757\u001b[0m \u001b[43m    \u001b[49m\u001b[43m)\u001b[49m\n\u001b[0;32m   1758\u001b[0m \u001b[38;5;28;01mexcept\u001b[39;00m \u001b[38;5;167;01mOSError\u001b[39;00m \u001b[38;5;28;01mas\u001b[39;00m e:\n",
            "File \u001b[1;32m~\\AppData\\Local\\Packages\\PythonSoftwareFoundation.Python.3.11_qbz5n2kfra8p0\\LocalCache\\local-packages\\Python311\\site-packages\\pydot\\core.py:133\u001b[0m, in \u001b[0;36mcall_graphviz\u001b[1;34m(program, arguments, working_dir, **kwargs)\u001b[0m\n\u001b[0;32m    131\u001b[0m program_with_args \u001b[38;5;241m=\u001b[39m [program] \u001b[38;5;241m+\u001b[39m arguments\n\u001b[1;32m--> 133\u001b[0m process \u001b[38;5;241m=\u001b[39m \u001b[43msubprocess\u001b[49m\u001b[38;5;241;43m.\u001b[39;49m\u001b[43mPopen\u001b[49m\u001b[43m(\u001b[49m\n\u001b[0;32m    134\u001b[0m \u001b[43m    \u001b[49m\u001b[43mprogram_with_args\u001b[49m\u001b[43m,\u001b[49m\n\u001b[0;32m    135\u001b[0m \u001b[43m    \u001b[49m\u001b[43menv\u001b[49m\u001b[38;5;241;43m=\u001b[39;49m\u001b[43menv\u001b[49m\u001b[43m,\u001b[49m\n\u001b[0;32m    136\u001b[0m \u001b[43m    \u001b[49m\u001b[43mcwd\u001b[49m\u001b[38;5;241;43m=\u001b[39;49m\u001b[43mworking_dir\u001b[49m\u001b[43m,\u001b[49m\n\u001b[0;32m    137\u001b[0m \u001b[43m    \u001b[49m\u001b[43mshell\u001b[49m\u001b[38;5;241;43m=\u001b[39;49m\u001b[38;5;28;43;01mFalse\u001b[39;49;00m\u001b[43m,\u001b[49m\n\u001b[0;32m    138\u001b[0m \u001b[43m    \u001b[49m\u001b[43mstderr\u001b[49m\u001b[38;5;241;43m=\u001b[39;49m\u001b[43msubprocess\u001b[49m\u001b[38;5;241;43m.\u001b[39;49m\u001b[43mPIPE\u001b[49m\u001b[43m,\u001b[49m\n\u001b[0;32m    139\u001b[0m \u001b[43m    \u001b[49m\u001b[43mstdout\u001b[49m\u001b[38;5;241;43m=\u001b[39;49m\u001b[43msubprocess\u001b[49m\u001b[38;5;241;43m.\u001b[39;49m\u001b[43mPIPE\u001b[49m\u001b[43m,\u001b[49m\n\u001b[0;32m    140\u001b[0m \u001b[43m    \u001b[49m\u001b[38;5;241;43m*\u001b[39;49m\u001b[38;5;241;43m*\u001b[39;49m\u001b[43mkwargs\u001b[49m\u001b[43m,\u001b[49m\n\u001b[0;32m    141\u001b[0m \u001b[43m\u001b[49m\u001b[43m)\u001b[49m\n\u001b[0;32m    142\u001b[0m stdout_data, stderr_data \u001b[38;5;241m=\u001b[39m process\u001b[38;5;241m.\u001b[39mcommunicate()\n",
            "File \u001b[1;32mC:\\Program Files\\WindowsApps\\PythonSoftwareFoundation.Python.3.11_3.11.2544.0_x64__qbz5n2kfra8p0\\Lib\\subprocess.py:1026\u001b[0m, in \u001b[0;36mPopen.__init__\u001b[1;34m(self, args, bufsize, executable, stdin, stdout, stderr, preexec_fn, close_fds, shell, cwd, env, universal_newlines, startupinfo, creationflags, restore_signals, start_new_session, pass_fds, user, group, extra_groups, encoding, errors, text, umask, pipesize, process_group)\u001b[0m\n\u001b[0;32m   1023\u001b[0m             \u001b[38;5;28mself\u001b[39m\u001b[38;5;241m.\u001b[39mstderr \u001b[38;5;241m=\u001b[39m io\u001b[38;5;241m.\u001b[39mTextIOWrapper(\u001b[38;5;28mself\u001b[39m\u001b[38;5;241m.\u001b[39mstderr,\n\u001b[0;32m   1024\u001b[0m                     encoding\u001b[38;5;241m=\u001b[39mencoding, errors\u001b[38;5;241m=\u001b[39merrors)\n\u001b[1;32m-> 1026\u001b[0m     \u001b[38;5;28;43mself\u001b[39;49m\u001b[38;5;241;43m.\u001b[39;49m\u001b[43m_execute_child\u001b[49m\u001b[43m(\u001b[49m\u001b[43margs\u001b[49m\u001b[43m,\u001b[49m\u001b[43m \u001b[49m\u001b[43mexecutable\u001b[49m\u001b[43m,\u001b[49m\u001b[43m \u001b[49m\u001b[43mpreexec_fn\u001b[49m\u001b[43m,\u001b[49m\u001b[43m \u001b[49m\u001b[43mclose_fds\u001b[49m\u001b[43m,\u001b[49m\n\u001b[0;32m   1027\u001b[0m \u001b[43m                        \u001b[49m\u001b[43mpass_fds\u001b[49m\u001b[43m,\u001b[49m\u001b[43m \u001b[49m\u001b[43mcwd\u001b[49m\u001b[43m,\u001b[49m\u001b[43m \u001b[49m\u001b[43menv\u001b[49m\u001b[43m,\u001b[49m\n\u001b[0;32m   1028\u001b[0m \u001b[43m                        \u001b[49m\u001b[43mstartupinfo\u001b[49m\u001b[43m,\u001b[49m\u001b[43m \u001b[49m\u001b[43mcreationflags\u001b[49m\u001b[43m,\u001b[49m\u001b[43m \u001b[49m\u001b[43mshell\u001b[49m\u001b[43m,\u001b[49m\n\u001b[0;32m   1029\u001b[0m \u001b[43m                        \u001b[49m\u001b[43mp2cread\u001b[49m\u001b[43m,\u001b[49m\u001b[43m \u001b[49m\u001b[43mp2cwrite\u001b[49m\u001b[43m,\u001b[49m\n\u001b[0;32m   1030\u001b[0m \u001b[43m                        \u001b[49m\u001b[43mc2pread\u001b[49m\u001b[43m,\u001b[49m\u001b[43m \u001b[49m\u001b[43mc2pwrite\u001b[49m\u001b[43m,\u001b[49m\n\u001b[0;32m   1031\u001b[0m \u001b[43m                        \u001b[49m\u001b[43merrread\u001b[49m\u001b[43m,\u001b[49m\u001b[43m \u001b[49m\u001b[43merrwrite\u001b[49m\u001b[43m,\u001b[49m\n\u001b[0;32m   1032\u001b[0m \u001b[43m                        \u001b[49m\u001b[43mrestore_signals\u001b[49m\u001b[43m,\u001b[49m\n\u001b[0;32m   1033\u001b[0m \u001b[43m                        \u001b[49m\u001b[43mgid\u001b[49m\u001b[43m,\u001b[49m\u001b[43m \u001b[49m\u001b[43mgids\u001b[49m\u001b[43m,\u001b[49m\u001b[43m \u001b[49m\u001b[43muid\u001b[49m\u001b[43m,\u001b[49m\u001b[43m \u001b[49m\u001b[43mumask\u001b[49m\u001b[43m,\u001b[49m\n\u001b[0;32m   1034\u001b[0m \u001b[43m                        \u001b[49m\u001b[43mstart_new_session\u001b[49m\u001b[43m,\u001b[49m\u001b[43m \u001b[49m\u001b[43mprocess_group\u001b[49m\u001b[43m)\u001b[49m\n\u001b[0;32m   1035\u001b[0m \u001b[38;5;28;01mexcept\u001b[39;00m:\n\u001b[0;32m   1036\u001b[0m     \u001b[38;5;66;03m# Cleanup if the child failed starting.\u001b[39;00m\n",
            "File \u001b[1;32mC:\\Program Files\\WindowsApps\\PythonSoftwareFoundation.Python.3.11_3.11.2544.0_x64__qbz5n2kfra8p0\\Lib\\subprocess.py:1538\u001b[0m, in \u001b[0;36mPopen._execute_child\u001b[1;34m(self, args, executable, preexec_fn, close_fds, pass_fds, cwd, env, startupinfo, creationflags, shell, p2cread, p2cwrite, c2pread, c2pwrite, errread, errwrite, unused_restore_signals, unused_gid, unused_gids, unused_uid, unused_umask, unused_start_new_session, unused_process_group)\u001b[0m\n\u001b[0;32m   1537\u001b[0m \u001b[38;5;28;01mtry\u001b[39;00m:\n\u001b[1;32m-> 1538\u001b[0m     hp, ht, pid, tid \u001b[38;5;241m=\u001b[39m \u001b[43m_winapi\u001b[49m\u001b[38;5;241;43m.\u001b[39;49m\u001b[43mCreateProcess\u001b[49m\u001b[43m(\u001b[49m\u001b[43mexecutable\u001b[49m\u001b[43m,\u001b[49m\u001b[43m \u001b[49m\u001b[43margs\u001b[49m\u001b[43m,\u001b[49m\n\u001b[0;32m   1539\u001b[0m \u001b[43m                             \u001b[49m\u001b[38;5;66;43;03m# no special security\u001b[39;49;00m\n\u001b[0;32m   1540\u001b[0m \u001b[43m                             \u001b[49m\u001b[38;5;28;43;01mNone\u001b[39;49;00m\u001b[43m,\u001b[49m\u001b[43m \u001b[49m\u001b[38;5;28;43;01mNone\u001b[39;49;00m\u001b[43m,\u001b[49m\n\u001b[0;32m   1541\u001b[0m \u001b[43m                             \u001b[49m\u001b[38;5;28;43mint\u001b[39;49m\u001b[43m(\u001b[49m\u001b[38;5;129;43;01mnot\u001b[39;49;00m\u001b[43m \u001b[49m\u001b[43mclose_fds\u001b[49m\u001b[43m)\u001b[49m\u001b[43m,\u001b[49m\n\u001b[0;32m   1542\u001b[0m \u001b[43m                             \u001b[49m\u001b[43mcreationflags\u001b[49m\u001b[43m,\u001b[49m\n\u001b[0;32m   1543\u001b[0m \u001b[43m                             \u001b[49m\u001b[43menv\u001b[49m\u001b[43m,\u001b[49m\n\u001b[0;32m   1544\u001b[0m \u001b[43m                             \u001b[49m\u001b[43mcwd\u001b[49m\u001b[43m,\u001b[49m\n\u001b[0;32m   1545\u001b[0m \u001b[43m                             \u001b[49m\u001b[43mstartupinfo\u001b[49m\u001b[43m)\u001b[49m\n\u001b[0;32m   1546\u001b[0m \u001b[38;5;28;01mfinally\u001b[39;00m:\n\u001b[0;32m   1547\u001b[0m     \u001b[38;5;66;03m# Child is launched. Close the parent's copy of those pipe\u001b[39;00m\n\u001b[0;32m   1548\u001b[0m     \u001b[38;5;66;03m# handles that only the child should have open.  You need\u001b[39;00m\n\u001b[1;32m   (...)\u001b[0m\n\u001b[0;32m   1551\u001b[0m     \u001b[38;5;66;03m# pipe will not close when the child process exits and the\u001b[39;00m\n\u001b[0;32m   1552\u001b[0m     \u001b[38;5;66;03m# ReadFile will hang.\u001b[39;00m\n",
            "\u001b[1;31mFileNotFoundError\u001b[0m: [WinError 2] O sistema não conseguiu localizar o ficheiro especificado",
            "\nDuring handling of the above exception, another exception occurred:\n",
            "\u001b[1;31mFileNotFoundError\u001b[0m                         Traceback (most recent call last)",
            "Cell \u001b[1;32mIn[5], line 42\u001b[0m\n\u001b[0;32m     37\u001b[0m   plt\u001b[38;5;241m.\u001b[39mshow()\n\u001b[0;32m     39\u001b[0m   \u001b[38;5;28;01mreturn\u001b[39;00m G\n\u001b[1;32m---> 42\u001b[0m G \u001b[38;5;241m=\u001b[39m \u001b[43mprint_grafo\u001b[49m\u001b[43m(\u001b[49m\u001b[43mtree_graph\u001b[49m\u001b[43m,\u001b[49m\u001b[43mlabels_dic\u001b[49m\u001b[43m,\u001b[49m\u001b[38;5;28;43;01mTrue\u001b[39;49;00m\u001b[43m)\u001b[49m\n",
            "Cell \u001b[1;32mIn[5], line 21\u001b[0m, in \u001b[0;36mprint_grafo\u001b[1;34m(graph, labels_dic, values)\u001b[0m\n\u001b[0;32m     18\u001b[0m G\u001b[38;5;241m.\u001b[39madd_edges_from(graph)\n\u001b[0;32m     20\u001b[0m \u001b[38;5;66;03m#gera a posicao e organiza em arvore\u001b[39;00m\n\u001b[1;32m---> 21\u001b[0m pos \u001b[38;5;241m=\u001b[39m \u001b[43mgraphviz_layout\u001b[49m\u001b[43m(\u001b[49m\u001b[43mG\u001b[49m\u001b[43m,\u001b[49m\u001b[43m \u001b[49m\u001b[43mprog\u001b[49m\u001b[38;5;241;43m=\u001b[39;49m\u001b[38;5;124;43m\"\u001b[39;49m\u001b[38;5;124;43mdot\u001b[39;49m\u001b[38;5;124;43m\"\u001b[39;49m\u001b[43m)\u001b[49m\n\u001b[0;32m     23\u001b[0m \u001b[38;5;28;01mfor\u001b[39;00m node \u001b[38;5;129;01min\u001b[39;00m G:\n\u001b[0;32m     24\u001b[0m   G\u001b[38;5;241m.\u001b[39mnodes[node][\u001b[38;5;124m\"\u001b[39m\u001b[38;5;124mvalue\u001b[39m\u001b[38;5;124m\"\u001b[39m] \u001b[38;5;241m=\u001b[39m labels_dic[node]\n",
            "File \u001b[1;32m~\\AppData\\Local\\Packages\\PythonSoftwareFoundation.Python.3.11_qbz5n2kfra8p0\\LocalCache\\local-packages\\Python311\\site-packages\\networkx\\drawing\\nx_pydot.py:357\u001b[0m, in \u001b[0;36mgraphviz_layout\u001b[1;34m(G, prog, root)\u001b[0m\n\u001b[0;32m    349\u001b[0m msg \u001b[38;5;241m=\u001b[39m (\n\u001b[0;32m    350\u001b[0m     \u001b[38;5;124m\"\u001b[39m\u001b[38;5;124mnx.nx_pydot.graphviz_layout depends on the pydot package, which has\u001b[39m\u001b[38;5;124m\"\u001b[39m\n\u001b[0;32m    351\u001b[0m     \u001b[38;5;124m\"\u001b[39m\u001b[38;5;124mknown issues and is not actively maintained. Consider using\u001b[39m\u001b[38;5;124m\"\u001b[39m\n\u001b[0;32m    352\u001b[0m     \u001b[38;5;124m\"\u001b[39m\u001b[38;5;124mnx.nx_agraph.graphviz_layout instead.\u001b[39m\u001b[38;5;130;01m\\n\u001b[39;00m\u001b[38;5;130;01m\\n\u001b[39;00m\u001b[38;5;124m\"\u001b[39m\n\u001b[0;32m    353\u001b[0m     \u001b[38;5;124m\"\u001b[39m\u001b[38;5;124mSee https://github.com/networkx/networkx/issues/5723\u001b[39m\u001b[38;5;124m\"\u001b[39m\n\u001b[0;32m    354\u001b[0m )\n\u001b[0;32m    355\u001b[0m warnings\u001b[38;5;241m.\u001b[39mwarn(msg, \u001b[38;5;167;01mDeprecationWarning\u001b[39;00m, stacklevel\u001b[38;5;241m=\u001b[39m\u001b[38;5;241m2\u001b[39m)\n\u001b[1;32m--> 357\u001b[0m \u001b[38;5;28;01mreturn\u001b[39;00m \u001b[43mpydot_layout\u001b[49m\u001b[43m(\u001b[49m\u001b[43mG\u001b[49m\u001b[38;5;241;43m=\u001b[39;49m\u001b[43mG\u001b[49m\u001b[43m,\u001b[49m\u001b[43m \u001b[49m\u001b[43mprog\u001b[49m\u001b[38;5;241;43m=\u001b[39;49m\u001b[43mprog\u001b[49m\u001b[43m,\u001b[49m\u001b[43m \u001b[49m\u001b[43mroot\u001b[49m\u001b[38;5;241;43m=\u001b[39;49m\u001b[43mroot\u001b[49m\u001b[43m)\u001b[49m\n",
            "File \u001b[1;32m~\\AppData\\Local\\Packages\\PythonSoftwareFoundation.Python.3.11_qbz5n2kfra8p0\\LocalCache\\local-packages\\Python311\\site-packages\\networkx\\drawing\\nx_pydot.py:412\u001b[0m, in \u001b[0;36mpydot_layout\u001b[1;34m(G, prog, root)\u001b[0m\n\u001b[0;32m    408\u001b[0m     P\u001b[38;5;241m.\u001b[39mset(\u001b[38;5;124m\"\u001b[39m\u001b[38;5;124mroot\u001b[39m\u001b[38;5;124m\"\u001b[39m, \u001b[38;5;28mstr\u001b[39m(root))\n\u001b[0;32m    410\u001b[0m \u001b[38;5;66;03m# List of low-level bytes comprising a string in the dot language converted\u001b[39;00m\n\u001b[0;32m    411\u001b[0m \u001b[38;5;66;03m# from the passed graph with the passed external GraphViz command.\u001b[39;00m\n\u001b[1;32m--> 412\u001b[0m D_bytes \u001b[38;5;241m=\u001b[39m \u001b[43mP\u001b[49m\u001b[38;5;241;43m.\u001b[39;49m\u001b[43mcreate_dot\u001b[49m\u001b[43m(\u001b[49m\u001b[43mprog\u001b[49m\u001b[38;5;241;43m=\u001b[39;49m\u001b[43mprog\u001b[49m\u001b[43m)\u001b[49m\n\u001b[0;32m    414\u001b[0m \u001b[38;5;66;03m# Unique string decoded from these bytes with the preferred locale encoding\u001b[39;00m\n\u001b[0;32m    415\u001b[0m D \u001b[38;5;241m=\u001b[39m \u001b[38;5;28mstr\u001b[39m(D_bytes, encoding\u001b[38;5;241m=\u001b[39mgetpreferredencoding())\n",
            "File \u001b[1;32m~\\AppData\\Local\\Packages\\PythonSoftwareFoundation.Python.3.11_qbz5n2kfra8p0\\LocalCache\\local-packages\\Python311\\site-packages\\pydot\\core.py:1578\u001b[0m, in \u001b[0;36mDot.__init__.<locals>.new_method\u001b[1;34m(f, prog, encoding)\u001b[0m\n\u001b[0;32m   1576\u001b[0m \u001b[38;5;28;01mdef\u001b[39;00m \u001b[38;5;21mnew_method\u001b[39m(f\u001b[38;5;241m=\u001b[39mfrmt, prog\u001b[38;5;241m=\u001b[39m\u001b[38;5;28;01mNone\u001b[39;00m, encoding\u001b[38;5;241m=\u001b[39m\u001b[38;5;28;01mNone\u001b[39;00m):\n\u001b[0;32m   1577\u001b[0m \u001b[38;5;250m    \u001b[39m\u001b[38;5;124;03m\"\"\"Refer to docstring of method `create`.\"\"\"\u001b[39;00m\n\u001b[1;32m-> 1578\u001b[0m     \u001b[38;5;28;01mreturn\u001b[39;00m \u001b[38;5;28;43mself\u001b[39;49m\u001b[38;5;241;43m.\u001b[39;49m\u001b[43mcreate\u001b[49m\u001b[43m(\u001b[49m\u001b[38;5;28;43mformat\u001b[39;49m\u001b[38;5;241;43m=\u001b[39;49m\u001b[43mf\u001b[49m\u001b[43m,\u001b[49m\u001b[43m \u001b[49m\u001b[43mprog\u001b[49m\u001b[38;5;241;43m=\u001b[39;49m\u001b[43mprog\u001b[49m\u001b[43m,\u001b[49m\u001b[43m \u001b[49m\u001b[43mencoding\u001b[49m\u001b[38;5;241;43m=\u001b[39;49m\u001b[43mencoding\u001b[49m\u001b[43m)\u001b[49m\n",
            "File \u001b[1;32m~\\AppData\\Local\\Packages\\PythonSoftwareFoundation.Python.3.11_qbz5n2kfra8p0\\LocalCache\\local-packages\\Python311\\site-packages\\pydot\\core.py:1762\u001b[0m, in \u001b[0;36mDot.create\u001b[1;34m(self, prog, format, encoding)\u001b[0m\n\u001b[0;32m   1760\u001b[0m     args \u001b[38;5;241m=\u001b[39m \u001b[38;5;28mlist\u001b[39m(e\u001b[38;5;241m.\u001b[39margs)\n\u001b[0;32m   1761\u001b[0m     args[\u001b[38;5;241m1\u001b[39m] \u001b[38;5;241m=\u001b[39m \u001b[38;5;124m'\u001b[39m\u001b[38;5;124m\"\u001b[39m\u001b[38;5;132;01m{prog}\u001b[39;00m\u001b[38;5;124m\"\u001b[39m\u001b[38;5;124m not found in path.\u001b[39m\u001b[38;5;124m'\u001b[39m\u001b[38;5;241m.\u001b[39mformat(prog\u001b[38;5;241m=\u001b[39mprog)\n\u001b[1;32m-> 1762\u001b[0m     \u001b[38;5;28;01mraise\u001b[39;00m \u001b[38;5;167;01mOSError\u001b[39;00m(\u001b[38;5;241m*\u001b[39margs)\n\u001b[0;32m   1763\u001b[0m \u001b[38;5;28;01melse\u001b[39;00m:\n\u001b[0;32m   1764\u001b[0m     \u001b[38;5;28;01mraise\u001b[39;00m\n",
            "\u001b[1;31mFileNotFoundError\u001b[0m: [WinError 2] \"dot\" not found in path."
          ]
        }
      ],
      "source": [
        "#funcao que printa o grafo\n",
        "def print_grafo(graph,labels_dic,values=False):\n",
        "\n",
        "  #parametros e entrada\n",
        "  ######\n",
        "  #list_edges deve ser uma lista de tuplas\n",
        "  #list_edges = [(1,2),(3,4)....]\n",
        "  #Cada edge representa uma ligacao entre nós\n",
        "  #values (default False) é se quer imprimir o grafo com os nomes dos nós ou com seus valores atribuidos\n",
        "  ######\n",
        "  #labels_dic é um dicionário com o peso de cada nó\n",
        "  #labels_dic = {1:4,2:2,3:5,....}\n",
        "\n",
        "  #cria o node\n",
        "  G = nx.DiGraph()\n",
        "\n",
        "  #insere os nós e os edges\n",
        "  G.add_edges_from(graph)\n",
        "\n",
        "  #gera a posicao e organiza em arvore\n",
        "  pos = graphviz_layout(G, prog=\"dot\")\n",
        "\n",
        "  for node in G:\n",
        "    G.nodes[node][\"value\"] = labels_dic[node]\n",
        "\n",
        "  # Printa a informacao do grafo (opcional)\n",
        "  print(\"Nodes:\", G.nodes(data=True))\n",
        "  print(\"Edges:\", G.edges())\n",
        "\n",
        "  #faz plot\n",
        "  if values:\n",
        "    nx.draw(G, pos,with_labels=True,labels=labels_dic)\n",
        "  else:\n",
        "    nx.draw(G,pos,with_labels=True)\n",
        "\n",
        "  plt.draw()\n",
        "  plt.show()\n",
        "\n",
        "  return G\n",
        "\n",
        "\n",
        "G = print_grafo(tree_graph,labels_dic,True)"
      ]
    },
    {
      "cell_type": "code",
      "execution_count": null,
      "metadata": {},
      "outputs": [
        {
          "name": "stdout",
          "output_type": "stream",
          "text": [
            "Nodes: [(0, {'value': None}), (1, {'value': None}), (2, {'value': None}), (3, {'value': -9}), (4, {'value': -6}), (5, {'value': None}), (6, {'value': 10}), (7, {'value': -8}), (8, {'value': None}), (9, {'value': None}), (10, {'value': -9}), (11, {'value': -6}), (12, {'value': None}), (13, {'value': -8}), (14, {'value': 0})]\n",
            "Edges: [(0, 1), (0, 8), (1, 2), (1, 5), (2, 3), (2, 4), (5, 6), (5, 7), (8, 9), (8, 12), (9, 10), (9, 11), (12, 13), (12, 14)]\n"
          ]
        },
        {
          "data": {
            "image/png": "[encoded data removed]",
            "text/plain": [
              "<Figure size 640x480 with 1 Axes>"
            ]
          },
          "metadata": {},
          "output_type": "display_data"
        }
      ],
      "source": [
        "G = print_grafo(tree_graph,labels_dic,False)"
      ]
    },
    {
      "cell_type": "markdown",
      "metadata": {
        "id": "19vzzV9H7kDe"
      },
      "source": [
        "## Exercício 2:\n",
        "\n",
        "Agora ja tem um bom grafo para trabalhar com minimax. crie uma função que receba como parâmetro o grafo que você criou acima, nó alvo e qual comportamento de jogador esse nó deve ter (max ou min). Sua função deve retornar qual jogada o jogador deve fazer logo a seguir o nó alvo."
      ]
    },
    {
      "cell_type": "code",
      "execution_count": null,
      "metadata": {
        "colab": {
          "base_uri": "https://localhost:8080/"
        },
        "id": "3nCU_2OpdvNm",
        "outputId": "ed19b157-7aac-4fe6-9110-afd33b6153aa"
      },
      "outputs": [
        {
          "name": "stdout",
          "output_type": "stream",
          "text": [
            "Nodes: [(0, {'value': None}), (1, {'value': None}), (2, {'value': None}), (3, {'value': -9}), (4, {'value': -6}), (5, {'value': None}), (6, {'value': 10}), (7, {'value': -8}), (8, {'value': None}), (9, {'value': None}), (10, {'value': -9}), (11, {'value': -6}), (12, {'value': None}), (13, {'value': -8}), (14, {'value': 0})]\n",
            "Edges: [(0, 1), (0, 8), (1, 2), (1, 5), (2, 3), (2, 4), (5, 6), (5, 7), (8, 9), (8, 12), (9, 10), (9, 11), (12, 13), (12, 14)]\n"
          ]
        }
      ],
      "source": [
        "print(\"Nodes:\", G.nodes(data=True))\n",
        "print(\"Edges:\", G.edges())"
      ]
    },
    {
      "cell_type": "code",
      "execution_count": null,
      "metadata": {
        "id": "T2NJwy_Yeaim"
      },
      "outputs": [],
      "source": [
        "def minimax(G, n, player='maxplayer'):\n",
        "\n",
        "    #recebe como parâmetro:\n",
        "    #G = Grafo\n",
        "    #n = nó analisado\n",
        "    #player = caracteristica do player naquele nó\n",
        "\n",
        "\n",
        "    def _minimax(G, n, player):\n",
        "        # Vai descendo os nós até achar um value\n",
        "        if G.nodes[n][\"value\"]!= None:\n",
        "            return G.nodes[n][\"value\"]\n",
        "\n",
        "\n",
        "        if player == 'maxplayer':\n",
        "            #funcao player max\n",
        "            #imaginando um valor muito baixo\n",
        "            bestv = float(\"-inf\")\n",
        "            #para cada filho\n",
        "            for child in G.successors(n):\n",
        "                #pega o valor contido no nó\n",
        "                v = _minimax(G, child, 'minplayer')\n",
        "                #fica com o maior numero\n",
        "                bestv = max(bestv, v)\n",
        "                print(f'Entrou no max eo valor analisado é {child,v}')\n",
        "\n",
        "            print(f'No final ele optou por {bestv}')\n",
        "\n",
        "        else:\n",
        "            #funcao player min\n",
        "            #imaginando um valor muito alto\n",
        "            bestv = float(\"inf\")\n",
        "            #para cada filho\n",
        "            for child in G.successors(n):\n",
        "                #pega o valor contido no nó\n",
        "                v = _minimax(G, child, 'maxplayer')\n",
        "                #fica com o menor numero\n",
        "                bestv = min(bestv, v)\n",
        "                print(f'Entrou no min eo valor analisado é {child,v}')\n",
        "\n",
        "            print(f'No final ele optou por {bestv}')\n",
        "\n",
        "\n",
        "        return bestv\n",
        "\n",
        "    #inicia no nó foco e se expande para os nós seguintes com base na caracteristica do player\n",
        "\n",
        "    if player=='maxplayer':\n",
        "\n",
        "      #inicia as variaveis de saida\n",
        "      #melhor movimento\n",
        "      best_move = None\n",
        "      #melhor numero numero muito pequeno\n",
        "      bestv = float(\"-inf\")\n",
        "\n",
        "\n",
        "      #para cada sucessor do nó de caracteristica maxima aplica-se um min\n",
        "      for child in G.successors(n):\n",
        "          print()\n",
        "          print(f\"Nó filho analisado: {child}\")\n",
        "          #minplayer\n",
        "          v = _minimax(G, child, 'minplayer')\n",
        "          #se é um max portanto ele quer ficar com o valor maior\n",
        "          if v > bestv:\n",
        "              best_move = child\n",
        "              bestv = v\n",
        "\n",
        "    else:\n",
        "\n",
        "\n",
        "      #melhor movimento\n",
        "      best_move = None\n",
        "      #melhor numero numero muito grande\n",
        "      bestv = float(\"inf\")\n",
        "\n",
        "      #para cada sucessor do nó de caracteristica minima aplica-se um max\n",
        "      for child in G.successors(n):\n",
        "          print()\n",
        "          print(f\"Nó filho analisado: {child}\")\n",
        "\n",
        "          v = _minimax(G, child, 'maxplayer')\n",
        "          if v < bestv:\n",
        "\n",
        "              best_move = child\n",
        "              bestv = v\n",
        "              print(f\"até o momento({best_move,bestv})\")\n",
        "\n",
        "\n",
        "    return (best_move, bestv)"
      ]
    },
    {
      "cell_type": "code",
      "execution_count": null,
      "metadata": {
        "colab": {
          "base_uri": "https://localhost:8080/"
        },
        "id": "EIFnfCq39vGF",
        "outputId": "e71b4059-66b1-4a60-eace-d51a09a967de"
      },
      "outputs": [
        {
          "name": "stdout",
          "output_type": "stream",
          "text": [
            "\n",
            "Nó filho analisado: 1\n",
            "Entrou no max eo valor analisado é (3, -9)\n",
            "Entrou no max eo valor analisado é (4, -6)\n",
            "No final ele optou por -6\n",
            "Entrou no min eo valor analisado é (2, -6)\n",
            "Entrou no max eo valor analisado é (6, 10)\n",
            "Entrou no max eo valor analisado é (7, -8)\n",
            "No final ele optou por 10\n",
            "Entrou no min eo valor analisado é (5, 10)\n",
            "No final ele optou por -6\n",
            "\n",
            "Nó filho analisado: 8\n",
            "Entrou no max eo valor analisado é (10, -9)\n",
            "Entrou no max eo valor analisado é (11, -6)\n",
            "No final ele optou por -6\n",
            "Entrou no min eo valor analisado é (9, -6)\n",
            "Entrou no max eo valor analisado é (13, -8)\n",
            "Entrou no max eo valor analisado é (14, 0)\n",
            "No final ele optou por 0\n",
            "Entrou no min eo valor analisado é (12, 0)\n",
            "No final ele optou por -6\n"
          ]
        },
        {
          "data": {
            "text/plain": [
              "(1, -6)"
            ]
          },
          "execution_count": 20,
          "metadata": {},
          "output_type": "execute_result"
        }
      ],
      "source": [
        "minimax(G, 0,'maxplayer')"
      ]
    },
    {
      "cell_type": "markdown",
      "metadata": {
        "id": "2M27L--Xpc-t"
      },
      "source": [
        "## Exercício 3:\n",
        "\n",
        "Que melhoria você propoe para o seu codigo acima? Discuta isso com o professor e veja sobre Alpha Beta Pruning. Implemente a rotina no seu código acima. O valor muda? O que muda?"
      ]
    },
    {
      "cell_type": "code",
      "execution_count": null,
      "metadata": {
        "id": "3Jwi3mHGu2nT"
      },
      "outputs": [],
      "source": [
        "def minimax_alfa(G, n, player='maxplayer'):\n",
        "\n",
        "    def _minimax(G, n, player, alpha, beta):\n",
        "        # Vai descendo os nós até achar um value\n",
        "        if G.nodes[n][\"value\"]!= None:\n",
        "            return G.nodes[n][\"value\"]\n",
        "\n",
        "\n",
        "        if player == 'maxplayer':\n",
        "            #maximizador\n",
        "            #atualiza o alfa\n",
        "            bestv = float(\"-inf\")\n",
        "            for child in G.successors(n):\n",
        "                v = _minimax(G, child, 'minplayer', alpha, beta)\n",
        "                bestv = max(bestv, v)\n",
        "                alpha = max(alpha, bestv)\n",
        "                print(f'Entrou no max eo valor analisado é {child,v}')\n",
        "                if beta <= alpha:\n",
        "                    print(\">>>>>>aplicou poda\")\n",
        "                    break\n",
        "\n",
        "\n",
        "            print(f'No final ele optou por {bestv}')\n",
        "            print(f\"alpha: {alpha}\")\n",
        "            print(f\"beta: {beta}\")\n",
        "\n",
        "            return bestv\n",
        "        else:\n",
        "            #minimizador\n",
        "            #atualiza o beta\n",
        "            bestv = float(\"inf\")\n",
        "            for child in G.successors(n):\n",
        "                v = _minimax(G, child, 'maxplayer', alpha, beta)\n",
        "                bestv = min(bestv, v)\n",
        "                beta = min(beta, bestv)\n",
        "                print(f'Entrou no min eo valor analisado é {child,v}')\n",
        "                if beta <= alpha:\n",
        "                    print(\">>>>>>aplicou poda\")\n",
        "                    break\n",
        "\n",
        "\n",
        "            print(f'No final ele optou por {bestv}')\n",
        "            print(f\"alpha: {alpha}\")\n",
        "            print(f\"beta: {beta}\")\n",
        "\n",
        "            return bestv\n",
        "\n",
        "\n",
        "    #se maxplayer\n",
        "    if player == 'maxplayer':\n",
        "        #inicia os valores\n",
        "        best_move = None\n",
        "        bestv = float(\"-inf\")\n",
        "        alpha = float(\"-inf\")\n",
        "        beta = float(\"inf\")\n",
        "\n",
        "        #para cada sucessor do nó alvo\n",
        "        for child in G.successors(n):\n",
        "\n",
        "            print()\n",
        "            print(f\"Nó filho analisado: {child}\")\n",
        "\n",
        "            #recebe v dos filhos\n",
        "            v = _minimax(G, child, 'minplayer', alpha, beta)\n",
        "            #se para o caso de max vai salvando os maiores\n",
        "\n",
        "            if v > bestv:\n",
        "                best_move = child\n",
        "                bestv = v\n",
        "                #além disso mantem no alfa o maior\n",
        "                alpha = max(alpha, bestv)\n",
        "    else:\n",
        "        #inicia os valores\n",
        "        best_move = None\n",
        "        bestv = float(\"inf\")\n",
        "        alpha = float(\"-inf\")\n",
        "        beta = float(\"inf\")\n",
        "\n",
        "        #para cada sucessor do nó alvo\n",
        "        for child in G.successors(n):\n",
        "\n",
        "            print()\n",
        "            print(f\"Nó filho analisado: {child}\")\n",
        "\n",
        "            v = _minimax(G, child, 'maxplayer', alpha, beta)\n",
        "            if v < bestv:\n",
        "                best_move = child\n",
        "                bestv = v\n",
        "                beta = min(beta, bestv)\n",
        "\n",
        "    return (best_move, bestv)"
      ]
    },
    {
      "cell_type": "code",
      "execution_count": null,
      "metadata": {
        "colab": {
          "base_uri": "https://localhost:8080/"
        },
        "id": "D7KA7YoZ-kfM",
        "outputId": "5cbce63f-3e7a-4981-af75-ed9a6d000d15"
      },
      "outputs": [
        {
          "name": "stdout",
          "output_type": "stream",
          "text": [
            "\n",
            "Nó filho analisado: 1\n",
            "Entrou no max eo valor analisado é (3, -9)\n",
            "Entrou no max eo valor analisado é (4, -6)\n",
            "No final ele optou por -6\n",
            "alpha: -6\n",
            "beta: inf\n",
            "Entrou no min eo valor analisado é (2, -6)\n",
            "Entrou no max eo valor analisado é (6, 10)\n",
            ">>>>>>aplicou poda\n",
            "No final ele optou por 10\n",
            "alpha: 10\n",
            "beta: -6\n",
            "Entrou no min eo valor analisado é (5, 10)\n",
            "No final ele optou por -6\n",
            "alpha: -inf\n",
            "beta: -6\n",
            "\n",
            "Nó filho analisado: 8\n",
            "Entrou no max eo valor analisado é (10, -9)\n",
            "Entrou no max eo valor analisado é (11, -6)\n",
            "No final ele optou por -6\n",
            "alpha: -6\n",
            "beta: inf\n",
            "Entrou no min eo valor analisado é (9, -6)\n",
            ">>>>>>aplicou poda\n",
            "No final ele optou por -6\n",
            "alpha: -6\n",
            "beta: -6\n"
          ]
        },
        {
          "data": {
            "text/plain": [
              "(1, -6)"
            ]
          },
          "execution_count": 22,
          "metadata": {},
          "output_type": "execute_result"
        }
      ],
      "source": [
        "minimax_alfa(G, 0,'maxplayer')"
      ]
    },
    {
      "cell_type": "code",
      "execution_count": null,
      "metadata": {},
      "outputs": [],
      "source": []
    }
  ],
  "metadata": {
    "colab": {
      "provenance": []
    },
    "kernelspec": {
      "display_name": "Python 3",
      "name": "python3"
    },
    "language_info": {
      "codemirror_mode": {
        "name": "ipython",
        "version": 3
      },
      "file_extension": ".py",
      "mimetype": "text/x-python",
      "name": "python",
      "nbconvert_exporter": "python",
      "pygments_lexer": "ipython3",
      "version": "3.11.9"
    }
  },
  "nbformat": 4,
  "nbformat_minor": 0
}
