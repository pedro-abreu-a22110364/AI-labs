{
  "cells": [
    {
      "cell_type": "markdown",
      "metadata": {
        "id": "IBniZsZbvm4w"
      },
      "source": [
        "# Bibliotecas"
      ]
    },
    {
      "cell_type": "code",
      "execution_count": 33,
      "metadata": {
        "id": "OZTwfZiFn73I"
      },
      "outputs": [],
      "source": [
        "#library para plot do grafo\n",
        "import networkx as nx\n",
        "#layout tipo arvore\n",
        "from networkx.drawing.nx_pydot import graphviz_layout\n",
        "\n",
        "#library para plot do grafo\n",
        "import matplotlib.pyplot as plt\n",
        "\n",
        "#biblioteca random\n",
        "import random"
      ]
    },
    {
      "cell_type": "markdown",
      "metadata": {
        "id": "w5IWme3Zwgk8"
      },
      "source": [
        "## Exercício 1:\n",
        "\n",
        "Gerar grafos aleatórios com branching factor b e profundidade d com valor para os elementos da sua base aleatórios de -10 até 10."
      ]
    },
    {
      "cell_type": "markdown",
      "metadata": {
        "id": "yrWkT66U0kN-"
      },
      "source": [
        "a) Para um dado depth factor `d` e para um Branching factor `b`, gere um codigo em python que produza um grafo, representando-o no formato lista de tuplas.\n",
        "\n",
        "Ex: `[(1,2),(1,4), (4,5)....]`\n",
        "\n",
        "Para o caso acima o nó 1 tem uma ligação com o nó dois e 4. O nó 4 tem uma ligação com o nó 5."
      ]
    },
    {
      "cell_type": "code",
      "execution_count": 34,
      "metadata": {
        "colab": {
          "base_uri": "https://localhost:8080/"
        },
        "id": "jnNpzHLyy1j8",
        "outputId": "ba63922a-ee0e-4f29-ad24-0dd2da18ecbb"
      },
      "outputs": [],
      "source": [
        "def gerar_grafo(d,b):\n",
        "\n",
        "    # Criar lista dos nóes necessário a partir do b e do d, somando a quantidade de nós por nível (compreensão)\n",
        "    grafos = sorted(list(range(sum([b**x for x in range(d+1)]))),reverse=True)\n",
        "\n",
        "    # Lista de tuplas\n",
        "    grafo = []\n",
        "\n",
        "    # Gerar os valores numéricos dos nós do último nível (d+1) (recursiva)\n",
        "    def gerar_pontas(parent, current_d, grafo):\n",
        "         \n",
        "        # Cria nós até a profundidade atual for igual à profundidade total\n",
        "        if (current_d == d):\n",
        "            return\n",
        "        \n",
        "        # Para cada nó criado (grafos) ele vai criar os seus filhos com base no barnching factor\n",
        "        for i in range(1, b+1):\n",
        "\n",
        "            # Vai buscar o nome do próximo filho\n",
        "            child = grafos.pop(-1)\n",
        "\n",
        "            # Coloca o pai e o seu filho juntos no grafo\n",
        "            grafo.append((parent,child))\n",
        "\n",
        "            # Com uma ponta concluida ele gera outra\n",
        "            gerar_pontas(child, current_d + 1, grafo)\n",
        "\n",
        "    # Entra na recursividade com o primeiro nó como pai\n",
        "    gerar_pontas(grafos.pop(-1),0,grafo)\n",
        "    return grafo"
      ]
    },
    {
      "cell_type": "markdown",
      "metadata": {
        "id": "8u0xPgtq7C2L"
      },
      "source": [
        "b) Em seguinda atribua um valor (utility) ou um valor para os nós na base do grafo. Use um dicionário `labels_dic` para faze-lo. Comece aqui a trabalhar com a biblioteca `networkx` ela é especializada em grafos. (Dica: pesquise o método `.degree` de um grafo)\n",
        "\n",
        "Ex: `{1:'', 2:'', 9:'',...}`"
      ]
    },
    {
      "cell_type": "code",
      "execution_count": 35,
      "metadata": {
        "id": "JlVuG-Pl5goV"
      },
      "outputs": [],
      "source": [
        "def gerar_labels_dic(grafo):\n",
        "    # Criar o grafo com networkx\n",
        "    G = nx.DiGraph()\n",
        "\n",
        "    # Inserir os nós e as pontas com base no grafo de tuplas\n",
        "    G.add_edges_from(grafo)\n",
        "\n",
        "    # Criar o dicionário\n",
        "    labels_dic = {node:random.randint(-10,10) if G.degree[node]==1 else None for node in G}\n",
        "\n",
        "    return labels_dic"
      ]
    },
    {
      "cell_type": "markdown",
      "metadata": {
        "id": "YaJn5omf7udD"
      },
      "source": [
        "c) Agora vamos tentar imprimir o que gerou. Também faz parte tentar receber funções de outros programadores e tentar atender os parametros de entrada. Utilizando a funcao dada abaixo atenda os requisitos do input e veja o que acontece."
      ]
    },
    {
      "cell_type": "code",
      "execution_count": 43,
      "metadata": {
        "colab": {
          "base_uri": "https://localhost:8080/",
          "height": 570
        },
        "id": "WDrbN6xooIUG",
        "outputId": "78984939-c4e8-49d3-c708-83d8d0ee8327"
      },
      "outputs": [],
      "source": [
        "# Funcao que printa o grafo\n",
        "def print_grafo(graph,labels_dic,values=False):\n",
        "\n",
        "  # Parametros de entrada\n",
        "  # graph -> deve ser uma lista de tuplas\n",
        "  # graph = [(1,2),(3,4)....]\n",
        "  # labels_dic -> dicionário com o peso de cada nó\n",
        "  # labels_dic = {1:4,2:2,3:5,....}\n",
        "  # values (default False) com seus valores atribuidos ou imprime o grafo com os nomes dos nós\n",
        "\n",
        "  # Cria o grafo com networkx\n",
        "  G = nx.DiGraph()\n",
        "\n",
        "  # Inserir os nós e as pontas com base no grafo de tuplas\n",
        "  G.add_edges_from(graph)\n",
        "\n",
        "  # Gera a posição e organiza em árvore\n",
        "  pos = graphviz_layout(G, prog=\"dot\")\n",
        "\n",
        "  for node in G:\n",
        "    G.nodes[node][\"value\"] = labels_dic[node]\n",
        "\n",
        "  # Printa a informacao do grafo (opcional)\n",
        "  print(\"Nodes:\", G.nodes(data=True))\n",
        "  print(\"Edges:\", G.edges())\n",
        "\n",
        "  #faz plot\n",
        "  if values:\n",
        "    nx.draw(G, pos,with_labels=True,labels=labels_dic)\n",
        "  else:\n",
        "    nx.draw(G,pos,with_labels=True)\n",
        "\n",
        "  plt.draw()\n",
        "  plt.show()\n",
        "\n",
        "  return G"
      ]
    },
    {
      "cell_type": "code",
      "execution_count": 44,
      "metadata": {},
      "outputs": [
        {
          "name": "stdout",
          "output_type": "stream",
          "text": [
            "[(0, 1), (1, 2), (1, 3), (0, 4), (4, 5), (4, 6)]\n",
            "{0: None, 1: None, 2: -4, 3: 0, 4: None, 5: -3, 6: -3}\n"
          ]
        }
      ],
      "source": [
        "# Exemplo de uso\n",
        "depth = 2\n",
        "branching_factor = 2\n",
        "\n",
        "grafo = gerar_grafo(depth,branching_factor)\n",
        "print(grafo)\n",
        "\n",
        "labels_dic = gerar_labels_dic(grafo)\n",
        "print(labels_dic)\n",
        "\n",
        "# G = print_grafo(grafo,labels_dic,True)"
      ]
    },
    {
      "cell_type": "markdown",
      "metadata": {
        "id": "19vzzV9H7kDe"
      },
      "source": [
        "## Exercício 2:\n",
        "\n",
        "Agora ja tem um bom grafo para trabalhar com minimax. crie uma função que receba como parâmetro o grafo que você criou acima, nó alvo e qual comportamento de jogador esse nó deve ter (max ou min). Sua função deve retornar qual jogada o jogador deve fazer logo a seguir o nó alvo."
      ]
    },
    {
      "cell_type": "code",
      "execution_count": 47,
      "metadata": {
        "colab": {
          "base_uri": "https://localhost:8080/"
        },
        "id": "3nCU_2OpdvNm",
        "outputId": "ed19b157-7aac-4fe6-9110-afd33b6153aa"
      },
      "outputs": [
        {
          "name": "stdout",
          "output_type": "stream",
          "text": [
            "Nodes: [(0, {'value': None}), (1, {'value': None}), (2, {'value': -4}), (3, {'value': 0}), (4, {'value': None}), (5, {'value': -3}), (6, {'value': -3})]\n",
            "Edges: [(0, 1), (0, 4), (1, 2), (1, 3), (4, 5), (4, 6)]\n"
          ]
        }
      ],
      "source": [
        "# Cria o grafo com networkx\n",
        "G = nx.DiGraph()\n",
        "\n",
        "# Inserir os nós e as pontas com base no grafo de tuplas\n",
        "G.add_edges_from(grafo)\n",
        "\n",
        "for node in G:\n",
        "    G.nodes[node][\"value\"] = labels_dic[node]\n",
        "\n",
        "print(\"Nodes:\", G.nodes(data=True))\n",
        "print(\"Edges:\", G.edges())"
      ]
    },
    {
      "cell_type": "code",
      "execution_count": null,
      "metadata": {
        "id": "T2NJwy_Yeaim"
      },
      "outputs": [],
      "source": []
    },
    {
      "cell_type": "markdown",
      "metadata": {
        "id": "2M27L--Xpc-t"
      },
      "source": [
        "## Exercício 3:\n",
        "\n",
        "Que melhoria você propoe para o seu codigo acima? Discuta isso com o professor e veja sobre Alpha Beta Pruning. Implemente a rotina no seu código acima. O valor muda? O que muda?"
      ]
    },
    {
      "cell_type": "code",
      "execution_count": null,
      "metadata": {
        "id": "3Jwi3mHGu2nT"
      },
      "outputs": [],
      "source": []
    }
  ],
  "metadata": {
    "colab": {
      "provenance": []
    },
    "kernelspec": {
      "display_name": "Python 3",
      "name": "python3"
    },
    "language_info": {
      "codemirror_mode": {
        "name": "ipython",
        "version": 3
      },
      "file_extension": ".py",
      "mimetype": "text/x-python",
      "name": "python",
      "nbconvert_exporter": "python",
      "pygments_lexer": "ipython3",
      "version": "3.11.9"
    }
  },
  "nbformat": 4,
  "nbformat_minor": 0
}
