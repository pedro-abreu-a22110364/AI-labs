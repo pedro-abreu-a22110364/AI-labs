{
 "cells": [
  {
   "cell_type": "markdown",
   "metadata": {},
   "source": [
    "# Representaçao de Grafos agora com pesos"
   ]
  },
  {
   "cell_type": "markdown",
   "metadata": {},
   "source": [
    "# Bibliotecas"
   ]
  },
  {
   "cell_type": "code",
   "execution_count": 1,
   "metadata": {},
   "outputs": [],
   "source": [
    "from collections import OrderedDict"
   ]
  },
  {
   "cell_type": "markdown",
   "metadata": {},
   "source": [
    "# Estrutura do Grafo"
   ]
  },
  {
   "cell_type": "code",
   "execution_count": 21,
   "metadata": {},
   "outputs": [],
   "source": [
    "#estrutura do grafo dos slide como exemplo\n",
    "g = {'S': {('A',7),('B',2),('C',3)},\n",
    "    'A': {('B',3),('D',4),('S',7)},\n",
    "    'B': {('A',3),('D',4),('H',1),('S',2)},\n",
    "    'C': {('L',2),('S',3)},\n",
    "    'D': {('A',4),('B',4),('F',5)},\n",
    "    'E': {('K',5),('G',2)},\n",
    "    'F': {('D',5),('H',4)},\n",
    "    'G': {('H',2),('E',2)},\n",
    "    'H': {('B',1),('F',4),('G',2)},\n",
    "    'I': {('L',4),('J',6),('K',4)},\n",
    "    'J': {('L',4),('I',6),('K',4)},\n",
    "    'K': {('I',4),('J',4),('E',5)},\n",
    "    'L': {('C',2),('J',4),('I',4)}\n",
    "}\n"
   ]
  },
  {
   "cell_type": "markdown",
   "metadata": {},
   "source": [
    "![alt text](grafo-1.png)"
   ]
  },
  {
   "cell_type": "markdown",
   "metadata": {},
   "source": [
    "# Primeira abordagem"
   ]
  },
  {
   "cell_type": "markdown",
   "metadata": {},
   "source": [
    "## Indicando os nós iniciais e finais"
   ]
  },
  {
   "cell_type": "code",
   "execution_count": 6,
   "metadata": {},
   "outputs": [],
   "source": [
    "init = 'S'\n",
    "goal = 'E'"
   ]
  },
  {
   "cell_type": "markdown",
   "metadata": {},
   "source": [
    "## Criando a estrutura de dados"
   ]
  },
  {
   "cell_type": "code",
   "execution_count": 7,
   "metadata": {},
   "outputs": [
    {
     "name": "stdout",
     "output_type": "stream",
     "text": [
      "{'S': [['S'], 0], 'A': [[], inf], 'B': [[], inf], 'C': [[], inf], 'D': [[], inf], 'E': [[], inf], 'F': [[], inf], 'G': [[], inf], 'H': [[], inf], 'I': [[], inf], 'J': [[], inf], 'K': [[], inf], 'L': [[], inf]}\n"
     ]
    }
   ],
   "source": [
    "# Criando um dicionário vazio\n",
    "q = {}\n",
    "\n",
    "# Colocando os restantes nós no dicionário\n",
    "q = {x: [[],float('inf')] for x in g}\n",
    "\n",
    "# Adicionar o nó adicional\n",
    "q[init] = [[init],0]\n",
    "\n",
    "# Imprimindo o dicionário\n",
    "print(q)"
   ]
  },
  {
   "cell_type": "markdown",
   "metadata": {},
   "source": [
    "## Main\n",
    "\n",
    "Utilize prints que se assemelhem com o proposto nos slides para facilitar a conferencia"
   ]
  },
  {
   "cell_type": "code",
   "execution_count": 27,
   "metadata": {},
   "outputs": [],
   "source": [
    "def informed_search_recur(g, q, init, goal):\n",
    "    \n",
    "    # Obter lista de chaves do dicionário\n",
    "    k = list(q.keys())\n",
    "    print(f'Keys in dictionary: {k}')\n",
    "\n",
    "    # Se o dicionário tiver vazio retorna\n",
    "    if not q:\n",
    "        return 'Node not founded'\n",
    "\n",
    "    # Obter o dicionário com os filhos do node atual\n",
    "    node_sons = g[k[0]]\n",
    "    print(f'Sons of node {k[0]} are {node_sons}')\n",
    "    \n",
    "    #ciclo pelas tuplas, ir ao cartao da tupla e atualizo o valor da distancia caso seja inf ou menor que o valor que já lá está\n",
    "\n",
    "    # Ciclo pelos filhos do nó\n",
    "    for value in node_sons:\n",
    "        \n",
    "        # Verificar se o cartão não existe\n",
    "        if value[0] in k:\n",
    "            \n",
    "            if q[value[0]][1] == 'inf' or q[value[0]][1] < value[1]:\n",
    "\n",
    "                q[value[0]][1] = value[1] \n",
    "\n",
    "\n",
    "    \n",
    "    # Chama a função novamente recursivamente.\n",
    "    return informed_search_recur(g,q,init,goal)"
   ]
  },
  {
   "cell_type": "code",
   "execution_count": 28,
   "metadata": {},
   "outputs": [
    {
     "name": "stdout",
     "output_type": "stream",
     "text": [
      "Keys in dictionary: ['S', 'A', 'B', 'C', 'D', 'E', 'F', 'G', 'H', 'I', 'J', 'K', 'L']\n",
      "Sons of node S are {('C', 3), ('B', 2), ('A', 7)}\n",
      "C\n",
      "B\n",
      "A\n"
     ]
    },
    {
     "ename": "TypeError",
     "evalue": "informed_search_recur() missing 4 required positional arguments: 'g', 'q', 'init', and 'goal'",
     "output_type": "error",
     "traceback": [
      "\u001b[1;31m---------------------------------------------------------------------------\u001b[0m",
      "\u001b[1;31mTypeError\u001b[0m                                 Traceback (most recent call last)",
      "Cell \u001b[1;32mIn[28], line 1\u001b[0m\n\u001b[1;32m----> 1\u001b[0m \u001b[43minformed_search_recur\u001b[49m\u001b[43m(\u001b[49m\u001b[43mg\u001b[49m\u001b[43m,\u001b[49m\u001b[43m \u001b[49m\u001b[43mq\u001b[49m\u001b[43m,\u001b[49m\u001b[43m \u001b[49m\u001b[43minit\u001b[49m\u001b[43m,\u001b[49m\u001b[43m \u001b[49m\u001b[43mgoal\u001b[49m\u001b[43m)\u001b[49m\n",
      "Cell \u001b[1;32mIn[27], line 20\u001b[0m, in \u001b[0;36minformed_search_recur\u001b[1;34m(g, q, init, goal)\u001b[0m\n\u001b[0;32m     17\u001b[0m     \u001b[38;5;28mprint\u001b[39m(\u001b[38;5;124mf\u001b[39m\u001b[38;5;124m'\u001b[39m\u001b[38;5;132;01m{\u001b[39;00mvalue[\u001b[38;5;241m0\u001b[39m]\u001b[38;5;132;01m}\u001b[39;00m\u001b[38;5;124m'\u001b[39m)\n\u001b[0;32m     19\u001b[0m \u001b[38;5;66;03m# Chama a função novamente recursivamente.\u001b[39;00m\n\u001b[1;32m---> 20\u001b[0m \u001b[38;5;28;01mreturn\u001b[39;00m \u001b[43minformed_search_recur\u001b[49m\u001b[43m(\u001b[49m\u001b[43m)\u001b[49m\n",
      "\u001b[1;31mTypeError\u001b[0m: informed_search_recur() missing 4 required positional arguments: 'g', 'q', 'init', and 'goal'"
     ]
    }
   ],
   "source": [
    "informed_search_recur(g, q, init, goal)"
   ]
  },
  {
   "cell_type": "markdown",
   "metadata": {},
   "source": [
    "# Segunda abordagem"
   ]
  },
  {
   "cell_type": "code",
   "execution_count": 299,
   "metadata": {},
   "outputs": [],
   "source": [
    "#estrutura do grafo dos slide como exemplo\n",
    "H = {'S': 10,\n",
    "    'A': 9,\n",
    "    'B': 7,\n",
    "    'C': 8,\n",
    "    'D': 8,\n",
    "    'E': 3,\n",
    "    'F': 6,\n",
    "    'G': 3,\n",
    "    'H': 6,\n",
    "    'I':4,\n",
    "    'J':4,\n",
    "    'K':5,\n",
    "    'L':6\n",
    "}"
   ]
  },
  {
   "cell_type": "markdown",
   "metadata": {},
   "source": [
    "## Criando a estrutura de dados"
   ]
  },
  {
   "cell_type": "code",
   "execution_count": null,
   "metadata": {},
   "outputs": [],
   "source": []
  },
  {
   "cell_type": "markdown",
   "metadata": {},
   "source": [
    "## Main\n",
    "\n",
    "Utilize prints que se assemelhem com o proposto nos slides para facilitar a conferencia"
   ]
  },
  {
   "cell_type": "code",
   "execution_count": null,
   "metadata": {},
   "outputs": [],
   "source": [
    "\n",
    "\n",
    "\n"
   ]
  }
 ],
 "metadata": {
  "kernelspec": {
   "display_name": "data_science",
   "language": "python",
   "name": "python3"
  },
  "language_info": {
   "codemirror_mode": {
    "name": "ipython",
    "version": 3
   },
   "file_extension": ".py",
   "mimetype": "text/x-python",
   "name": "python",
   "nbconvert_exporter": "python",
   "pygments_lexer": "ipython3",
   "version": "3.11.9"
  }
 },
 "nbformat": 4,
 "nbformat_minor": 2
}
