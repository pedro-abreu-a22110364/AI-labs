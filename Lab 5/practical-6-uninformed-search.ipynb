{
 "cells": [
  {
   "cell_type": "code",
   "execution_count": 45,
   "metadata": {},
   "outputs": [],
   "source": [
    "# Imports etc."
   ]
  },
  {
   "cell_type": "markdown",
   "metadata": {},
   "source": [
    "# Sessão prática 6: Busca não informada"
   ]
  },
  {
   "cell_type": "markdown",
   "metadata": {},
   "source": [
    "## 1. Preambulo \n",
    "\n",
    "Investiga como funcionam as struturas `set` em Python, particulamente, se tivermos dois conjuntos  $a$ e $b$ que acontece quando fazemos  $a - b$? \n",
    "Que acontece se usamos a função `add` num conjunto?\n",
    "\n",
    "Investiga também a função `pop` aplicada a uma estrutura de tipo lista. Que acontece quando fazemos `pop()` numa lista? E quando fazemos `pop(0)`? Qual a diferença?\n",
    "\n"
   ]
  },
  {
   "cell_type": "markdown",
   "metadata": {},
   "source": [
    "## 2. Exercício 1\n",
    "Usa estes conceitos para implementar DFS e BFS considerando o percurso no grafo que considera só os nodos visitados (e não os caminhos parciais)\n",
    "\n",
    "Usa o grafo embaixo para testar o teu código"
   ]
  },
  {
   "cell_type": "markdown",
   "metadata": {},
   "source": [
    "## Exercício 2\n",
    "\n",
    "Implementar a versão final de DFS / BFS que funciona com a queue que mantém os caminhos parcais, como estudamos na sessão teórica requer de alguns truques.\n",
    "Existem várias maneiras válidas para implementar estes algoritmos de busca informada.\n",
    "\n",
    "Investiga como é que funciona o `yield` em Python\n",
    "Investiga como poderias usar chamadas recursivas em Python\n",
    "\n",
    "Usando estes recursos tenta implementar uma versão simples de busca não informada que possa fazer DFS ou BFS."
   ]
  },
  {
   "cell_type": "code",
   "execution_count": 46,
   "metadata": {},
   "outputs": [],
   "source": [
    "class Node:\n",
    "    def __init__(self, value):\n",
    "        self.value = value\n",
    "        self.children = []\n",
    "\n",
    "    def add_child(self, child):\n",
    "        if isinstance(child, Node):\n",
    "            self.children.append(child)\n",
    "        else:\n",
    "            raise TypeError(\"Child must be a Node object\")\n",
    "        \n",
    "    def is_connected(self, node):\n",
    "        if (node in self.children):\n",
    "            return True\n",
    "        return False\n",
    "\n",
    "    # Just for debugging purpose\n",
    "    def __repr__(self):\n",
    "        return f\"Node({self.value})\""
   ]
  },
  {
   "cell_type": "markdown",
   "metadata": {},
   "source": [
    "# BFS"
   ]
  },
  {
   "cell_type": "code",
   "execution_count": 47,
   "metadata": {},
   "outputs": [],
   "source": [
    "def search_alg_path(init, goal):\n",
    "    q = [init]\n",
    "    v = []\n",
    "\n",
    "    last_node_obj = Node(value=\"nope\")\n",
    "\n",
    "    dict = {}\n",
    "\n",
    "    while q:\n",
    "        h = q[0]\n",
    "        print(\"Head: \",h)\n",
    "        r = q[1:]\n",
    "        print(\"Rest: \",r)\n",
    "\n",
    "        if len(dict) == 0:\n",
    "            print(\"Dicionário vazio\")\n",
    "            dict[h.value] = list(h.value)\n",
    "        elif (last_node_obj.is_connected(h)):\n",
    "            if h.value not in dict:\n",
    "                print(\"Não tenho\")\n",
    "                lastNodeList = dict[last_node]\n",
    "                print(lastNodeList)\n",
    "                dict[h.value] = (dict.get(last_node) + list(h.value))\n",
    "            else:\n",
    "                print(\"Já tenho\")\n",
    "                # Just return 1 path, lacking multipath\n",
    "        else:\n",
    "            print(\"Novo path\")\n",
    "            last_node_value = dict.get(last_node)\n",
    "            print(\"---\")\n",
    "            print(last_node_value)\n",
    "            if last_node_value: \n",
    "                last_node_value.pop()\n",
    "                print (last_node_value)\n",
    "                dict[h.value] = last_node_value.append(h.value) \n",
    "                print(dict[h.value]) #Está a none, devia estar a ['A','C']\n",
    "                print(\"---\")\n",
    "\n",
    "        last_node_obj = h\n",
    "        last_node = h.value\n",
    "\n",
    "        if h == goal:\n",
    "            print(\"Cheguei ao fim\")\n",
    "            break\n",
    "        else:\n",
    "            v.append(h)\n",
    "            print(\"Viewed nodes: \",v)\n",
    "            #e = list(h.children) - list(v)\n",
    "            e = [x for x in h.children if x not in v]\n",
    "            print(\"Children of head: \",e)\n",
    "            qTemp = r + list(e)\n",
    "            q = [y for y in qTemp if y not in v]\n",
    "            print(\"All non-visited node: \",q)\n",
    "            print(\"---------------------\")\n",
    "\n",
    "    print(\"Paths: \",dict)\n",
    "    return dict.get(goal.value)"
   ]
  },
  {
   "cell_type": "code",
   "execution_count": 48,
   "metadata": {},
   "outputs": [],
   "source": [
    "def create_node_dict(node, visited=None):\n",
    "    if visited is None:\n",
    "        visited = set()\n",
    "\n",
    "    node_dict = {node.value: []}\n",
    "    visited.add(node)\n",
    "\n",
    "    for child in node.children:\n",
    "        if child not in visited:\n",
    "            node_dict[node.value].append(child.value)\n",
    "            node_dict.update(create_node_dict(child, visited))\n",
    "\n",
    "    return node_dict\n"
   ]
  },
  {
   "cell_type": "code",
   "execution_count": 49,
   "metadata": {},
   "outputs": [
    {
     "name": "stdout",
     "output_type": "stream",
     "text": [
      "[Node(D), Node(F)]\n",
      "{'A': ['B'], 'B': ['D', 'E'], 'D': ['H'], 'H': [], 'E': ['F'], 'F': ['C'], 'C': ['G'], 'G': []}\n",
      "\n",
      "Head:  Node(A)\n",
      "Rest:  []\n",
      "Dicionário vazio\n",
      "Viewed nodes:  [Node(A)]\n",
      "Children of head:  [Node(B), Node(C), Node(E)]\n",
      "All non-visited node:  [Node(B), Node(C), Node(E)]\n",
      "---------------------\n",
      "Head:  Node(B)\n",
      "Rest:  [Node(C), Node(E)]\n",
      "Não tenho\n",
      "['A']\n",
      "Viewed nodes:  [Node(A), Node(B)]\n",
      "Children of head:  [Node(D), Node(E)]\n",
      "All non-visited node:  [Node(C), Node(E), Node(D), Node(E)]\n",
      "---------------------\n",
      "Head:  Node(C)\n",
      "Rest:  [Node(E), Node(D), Node(E)]\n",
      "Novo path\n",
      "---\n",
      "['A', 'B']\n",
      "['A']\n",
      "None\n",
      "---\n",
      "Viewed nodes:  [Node(A), Node(B), Node(C)]\n",
      "Children of head:  [Node(F), Node(G)]\n",
      "All non-visited node:  [Node(E), Node(D), Node(E), Node(F), Node(G)]\n",
      "---------------------\n",
      "Head:  Node(E)\n",
      "Rest:  [Node(D), Node(E), Node(F), Node(G)]\n",
      "Novo path\n",
      "---\n",
      "None\n",
      "Viewed nodes:  [Node(A), Node(B), Node(C), Node(E)]\n",
      "Children of head:  [Node(D), Node(F)]\n",
      "All non-visited node:  [Node(D), Node(F), Node(G), Node(D), Node(F)]\n",
      "---------------------\n",
      "Head:  Node(D)\n",
      "Rest:  [Node(F), Node(G), Node(D), Node(F)]\n",
      "Não tenho\n"
     ]
    },
    {
     "ename": "KeyError",
     "evalue": "'E'",
     "output_type": "error",
     "traceback": [
      "\u001b[1;31m---------------------------------------------------------------------------\u001b[0m",
      "\u001b[1;31mKeyError\u001b[0m                                  Traceback (most recent call last)",
      "Cell \u001b[1;32mIn[49], line 48\u001b[0m\n\u001b[0;32m     45\u001b[0m     search_alg_path(nodeA, nodeH)\n\u001b[0;32m     47\u001b[0m \u001b[38;5;28;01mif\u001b[39;00m \u001b[38;5;18m__name__\u001b[39m \u001b[38;5;241m==\u001b[39m \u001b[38;5;124m\"\u001b[39m\u001b[38;5;124m__main__\u001b[39m\u001b[38;5;124m\"\u001b[39m:\n\u001b[1;32m---> 48\u001b[0m     \u001b[43mmain\u001b[49m\u001b[43m(\u001b[49m\u001b[43m)\u001b[49m\n",
      "Cell \u001b[1;32mIn[49], line 45\u001b[0m, in \u001b[0;36mmain\u001b[1;34m()\u001b[0m\n\u001b[0;32m     42\u001b[0m \u001b[38;5;28mprint\u001b[39m(node_dict)\n\u001b[0;32m     43\u001b[0m \u001b[38;5;28mprint\u001b[39m()\n\u001b[1;32m---> 45\u001b[0m \u001b[43msearch_alg_path\u001b[49m\u001b[43m(\u001b[49m\u001b[43mnodeA\u001b[49m\u001b[43m,\u001b[49m\u001b[43m \u001b[49m\u001b[43mnodeH\u001b[49m\u001b[43m)\u001b[49m\n",
      "Cell \u001b[1;32mIn[47], line 21\u001b[0m, in \u001b[0;36msearch_alg_path\u001b[1;34m(init, goal)\u001b[0m\n\u001b[0;32m     19\u001b[0m \u001b[38;5;28;01mif\u001b[39;00m h\u001b[38;5;241m.\u001b[39mvalue \u001b[38;5;129;01mnot\u001b[39;00m \u001b[38;5;129;01min\u001b[39;00m \u001b[38;5;28mdict\u001b[39m:\n\u001b[0;32m     20\u001b[0m     \u001b[38;5;28mprint\u001b[39m(\u001b[38;5;124m\"\u001b[39m\u001b[38;5;124mNão tenho\u001b[39m\u001b[38;5;124m\"\u001b[39m)\n\u001b[1;32m---> 21\u001b[0m     lastNodeList \u001b[38;5;241m=\u001b[39m \u001b[38;5;28;43mdict\u001b[39;49m\u001b[43m[\u001b[49m\u001b[43mlast_node\u001b[49m\u001b[43m]\u001b[49m\n\u001b[0;32m     22\u001b[0m     \u001b[38;5;28mprint\u001b[39m(lastNodeList)\n\u001b[0;32m     23\u001b[0m     \u001b[38;5;28mdict\u001b[39m[h\u001b[38;5;241m.\u001b[39mvalue] \u001b[38;5;241m=\u001b[39m (\u001b[38;5;28mdict\u001b[39m\u001b[38;5;241m.\u001b[39mget(last_node) \u001b[38;5;241m+\u001b[39m \u001b[38;5;28mlist\u001b[39m(h\u001b[38;5;241m.\u001b[39mvalue))\n",
      "\u001b[1;31mKeyError\u001b[0m: 'E'"
     ]
    }
   ],
   "source": [
    "def main():\n",
    "\n",
    "    #g = {\n",
    "    #    'A': ['B', 'C', 'E'],\n",
    "    #    'B': ['D', 'E'],\n",
    "    #    'C': ['F', 'G'],\n",
    "    #    'D': ['H'],\n",
    "    #    'E': ['D', 'F'],\n",
    "    #    'F': ['C'],\n",
    "    #    'G': ['F'],\n",
    "    #    'H': []\n",
    "    #}\n",
    "\n",
    "    # Creating nodes\n",
    "    nodeA = Node(\"A\")\n",
    "    nodeB = Node(\"B\")\n",
    "    nodeC = Node(\"C\")\n",
    "    nodeD = Node(\"D\")\n",
    "    nodeE = Node(\"E\")\n",
    "    nodeF = Node(\"F\")\n",
    "    nodeG = Node(\"G\")\n",
    "    nodeH = Node(\"H\")\n",
    "\n",
    "    # Connecting nodes\n",
    "    nodeA.add_child(nodeB)\n",
    "    nodeA.add_child(nodeC)\n",
    "    nodeA.add_child(nodeE)\n",
    "    nodeB.add_child(nodeD)\n",
    "    nodeB.add_child(nodeE)\n",
    "    nodeC.add_child(nodeF)\n",
    "    nodeC.add_child(nodeG)\n",
    "    nodeD.add_child(nodeH)\n",
    "    nodeE.add_child(nodeD)\n",
    "    nodeE.add_child(nodeF)\n",
    "    nodeF.add_child(nodeC)\n",
    "    nodeG.add_child(nodeF)\n",
    "\n",
    "    print(nodeE.children)\n",
    "\n",
    "    # Creating the dictionary\n",
    "    node_dict = create_node_dict(nodeA)\n",
    "    print(node_dict)\n",
    "    print()\n",
    "\n",
    "    search_alg_path(nodeA, nodeH)\n",
    "\n",
    "if __name__ == \"__main__\":\n",
    "    main()"
   ]
  }
 ],
 "metadata": {
  "kernelspec": {
   "display_name": "data_science",
   "language": "python",
   "name": "python3"
  },
  "language_info": {
   "codemirror_mode": {
    "name": "ipython",
    "version": 3
   },
   "file_extension": ".py",
   "mimetype": "text/x-python",
   "name": "python",
   "nbconvert_exporter": "python",
   "pygments_lexer": "ipython3",
   "version": "3.11.9"
  }
 },
 "nbformat": 4,
 "nbformat_minor": 2
}
