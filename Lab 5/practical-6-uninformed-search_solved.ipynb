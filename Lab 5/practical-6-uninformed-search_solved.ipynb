{
 "cells": [
  {
   "cell_type": "code",
   "execution_count": null,
   "metadata": {},
   "outputs": [],
   "source": [
    "# Imports etc."
   ]
  },
  {
   "cell_type": "markdown",
   "metadata": {},
   "source": [
    "# Sessão prática 6: Busca não informada"
   ]
  },
  {
   "cell_type": "markdown",
   "metadata": {},
   "source": [
    "## 1. Preambulo \n",
    "\n",
    "Investiga como funcionam as struturas `set` em Python, particulamente, se tivermos dois conjuntos  $a$ e $b$ que acontece quando fazemos  $a - b$? \n",
    "Que acontece se usamos a função `add` num conjunto?\n",
    "\n",
    "Investiga também a função `pop` aplicada a uma estrutura de tipo lista. Que acontece quando fazemos `pop()` numa lista? E quando fazemos `pop(0)`? Qual a diferença?\n",
    "\n"
   ]
  },
  {
   "cell_type": "code",
   "execution_count": 1,
   "metadata": {},
   "outputs": [
    {
     "name": "stdout",
     "output_type": "stream",
     "text": [
      "{1, 2, 3, 4, 8}\n",
      "{3, 5, 6}\n",
      "{8, 1, 2, 4}\n"
     ]
    }
   ],
   "source": [
    "a = [1,1,2,3,4,8,4]\n",
    "b = [3,3,5,6]\n",
    "\n",
    "print(set(a))#set é um conjunto\n",
    "print(set(b))\n",
    "print(set(a)-set(b))#elemenos unicos em \"a\" que nao estao em b"
   ]
  },
  {
   "cell_type": "code",
   "execution_count": 2,
   "metadata": {},
   "outputs": [
    {
     "name": "stdout",
     "output_type": "stream",
     "text": [
      "{1, 2, 3, 4, 8}\n",
      "{1, 2, 3, 4, 8, 9}\n"
     ]
    }
   ],
   "source": [
    "set_a = set(a)\n",
    "print(set_a)\n",
    "set_a.add(9)#adiciona um elemento a um set\n",
    "print(set_a)"
   ]
  },
  {
   "cell_type": "code",
   "execution_count": 3,
   "metadata": {},
   "outputs": [
    {
     "name": "stdout",
     "output_type": "stream",
     "text": [
      "[1, 1, 2, 3, 4, 8]\n"
     ]
    }
   ],
   "source": [
    "a.pop()#exclui o ultimo elemento adicionado em uma lista\n",
    "print(a)"
   ]
  },
  {
   "cell_type": "code",
   "execution_count": 4,
   "metadata": {},
   "outputs": [
    {
     "name": "stdout",
     "output_type": "stream",
     "text": [
      "[1, 2, 3, 4, 8]\n"
     ]
    }
   ],
   "source": [
    "a.pop(0)#exclui o elemento no endereco 0 de uma lista\n",
    "print(a)"
   ]
  },
  {
   "cell_type": "markdown",
   "metadata": {},
   "source": [
    "## 2. Exercício 1\n",
    "Usa estes conceitos para implementar DFS e BFS considerando o percurso no grafo que considera só os nodos visitados (e não os caminhos parciais)\n",
    "\n",
    "Usa o grafo embaixo para testar o teu código"
   ]
  },
  {
   "cell_type": "code",
   "execution_count": 7,
   "metadata": {},
   "outputs": [],
   "source": [
    "g = {\n",
    "    'A': ['B', 'C', 'E'],\n",
    "    'B': ['D', 'E'],\n",
    "    'C': ['F', 'G'],\n",
    "    'D': ['H'],\n",
    "    'E': ['D', 'F'],\n",
    "    'F': ['C'],\n",
    "    'G': ['F'],\n",
    "    'H': []\n",
    "}"
   ]
  },
  {
   "cell_type": "code",
   "execution_count": 103,
   "metadata": {},
   "outputs": [],
   "source": [
    "def uniformed_search(neighbour_list, root_node, goal, opt):\n",
    "\n",
    "    # neighbour_list = grafo\n",
    "    # root_node = nó que onde se inicia\n",
    "    # goal = nó que se pretende chegar\n",
    "    # opt = tipo de busca\n",
    "\n",
    "    #nós ja visitados\n",
    "    visited_nodes = set()\n",
    "\n",
    "    # lista iniciada a partir do nó inicial\n",
    "    stack = [root_node]\n",
    "\n",
    "    #enquanto stack existir e a flag found for false\n",
    "    while stack:\n",
    "\n",
    "        #exclui-se o ultimo elemento da stack\n",
    "        node = stack.pop(0)\n",
    "\n",
    "        #print do visiting node\n",
    "        print('visiting node', node)\n",
    "\n",
    "        #se o nó analisado for o nó buscado\n",
    "        if node == goal:\n",
    "            #print para avisar que achou o nó\n",
    "            print('found goal node')\n",
    "            break\n",
    "\n",
    "        #caso o nó analisado nao seja o nó buscado\n",
    "        elif node not in visited_nodes:\n",
    "            #adicionar o nó analisado na lista de nós visitados\n",
    "            visited_nodes.add(node)\n",
    "\n",
    "            # Modifica a stack de acordo com a opção selecionada.\n",
    "            if opt == 'dfs':\n",
    "                # Adiciona os filhos do nó na frente da stack.\n",
    "                stack = sorted(set(neighbour_list[node]) - visited_nodes) + stack\n",
    "            elif opt == 'bfs':\n",
    "                # Adiciona os filhos do nó no final da stack.\n",
    "                stack = stack + sorted(set(neighbour_list[node]) - visited_nodes)\n",
    "            \n",
    "            print('stack is', stack)\n",
    "            \n",
    "    return list(visited_nodes)"
   ]
  },
  {
   "cell_type": "code",
   "execution_count": 105,
   "metadata": {},
   "outputs": [
    {
     "name": "stdout",
     "output_type": "stream",
     "text": [
      "visiting node A\n",
      "stack is ['B', 'C', 'E']\n",
      "visiting node B\n",
      "stack is ['C', 'E', 'D', 'E']\n",
      "visiting node C\n",
      "stack is ['E', 'D', 'E', 'F', 'G']\n",
      "visiting node E\n",
      "stack is ['D', 'E', 'F', 'G', 'D', 'F']\n",
      "visiting node D\n",
      "stack is ['E', 'F', 'G', 'D', 'F', 'H']\n",
      "visiting node E\n",
      "visiting node F\n",
      "stack is ['G', 'D', 'F', 'H']\n",
      "visiting node G\n",
      "stack is ['D', 'F', 'H']\n",
      "visiting node D\n",
      "visiting node F\n",
      "visiting node H\n",
      "found goal node\n"
     ]
    },
    {
     "data": {
      "text/plain": [
       "['E', 'D', 'G', 'B', 'C', 'A', 'F']"
      ]
     },
     "execution_count": 105,
     "metadata": {},
     "output_type": "execute_result"
    }
   ],
   "source": [
    "uniformed_search(g,'A','H','bfs')"
   ]
  },
  {
   "cell_type": "code",
   "execution_count": 96,
   "metadata": {},
   "outputs": [],
   "source": [
    "def uniformed_search_recur(neighbour_list, root_node, goal, opt, visited_nodes=None, stack=None):\n",
    "    # Verifica se visited_nodes e stack são None, e se for, inicia-os.\n",
    "    if visited_nodes is None:\n",
    "        visited_nodes = set()\n",
    "    if stack is None:\n",
    "        stack = [root_node]\n",
    "    \n",
    "    # Se a stack estiver vazia, retorna visited_nodes.\n",
    "    if not stack:\n",
    "        return list(visited_nodes)\n",
    "    \n",
    "    # Remove o último elemento da stack.\n",
    "    node = stack.pop(0)\n",
    "    \n",
    "    # Imprime o nó visitado.\n",
    "    print('visiting node', node)\n",
    "    \n",
    "    # Se o nó for o objetivo, imprime que o objetivo foi encontrado e retorna visited_nodes.\n",
    "    if node == goal:\n",
    "        print('found goal node')\n",
    "        return list(visited_nodes)\n",
    "    \n",
    "    # Adiciona o nó visitado a visited_nodes.\n",
    "    visited_nodes.add(node)\n",
    "    \n",
    "    # Modifica a stack de acordo com a opção selecionada.\n",
    "    if opt == 'dfs':\n",
    "        # Adiciona os filhos do nó na frente da stack.\n",
    "        stack = sorted(set(neighbour_list[node]) - visited_nodes) + stack\n",
    "    elif opt == 'bfs':\n",
    "        # Adiciona os filhos do nó no final da stack.\n",
    "        stack = stack + sorted(set(neighbour_list[node]) - visited_nodes)\n",
    "    \n",
    "    print('stack is', stack)\n",
    "    \n",
    "    # Chama a função novamente recursivamente.\n",
    "    return uniformed_search_recur(neighbour_list, root_node, goal, opt, visited_nodes, stack)\n"
   ]
  },
  {
   "cell_type": "code",
   "execution_count": 110,
   "metadata": {},
   "outputs": [
    {
     "name": "stdout",
     "output_type": "stream",
     "text": [
      "visiting node A\n",
      "stack is ['B', 'C', 'E']\n",
      "visiting node B\n",
      "stack is ['C', 'E', 'D', 'E']\n",
      "visiting node C\n",
      "stack is ['E', 'D', 'E', 'F', 'G']\n",
      "visiting node E\n",
      "stack is ['D', 'E', 'F', 'G', 'D', 'F']\n",
      "visiting node D\n",
      "stack is ['E', 'F', 'G', 'D', 'F', 'H']\n",
      "visiting node E\n",
      "visiting node F\n",
      "stack is ['G', 'D', 'F', 'H']\n",
      "visiting node G\n",
      "stack is ['D', 'F', 'H']\n",
      "visiting node D\n",
      "visiting node F\n",
      "visiting node H\n",
      "found goal node\n"
     ]
    },
    {
     "data": {
      "text/plain": [
       "['E', 'D', 'G', 'B', 'C', 'A', 'F']"
      ]
     },
     "execution_count": 110,
     "metadata": {},
     "output_type": "execute_result"
    }
   ],
   "source": [
    "uniformed_search(g,'A','H','bfs')"
   ]
  },
  {
   "cell_type": "code",
   "execution_count": 111,
   "metadata": {},
   "outputs": [
    {
     "name": "stdout",
     "output_type": "stream",
     "text": [
      "visiting node A\n",
      "stack is ['B', 'C', 'E']\n",
      "visiting node B\n",
      "stack is ['C', 'E', 'D', 'E']\n",
      "visiting node C\n",
      "stack is ['E', 'D', 'E', 'F', 'G']\n",
      "visiting node E\n",
      "stack is ['D', 'E', 'F', 'G', 'D', 'F']\n",
      "visiting node D\n",
      "stack is ['E', 'F', 'G', 'D', 'F', 'H']\n",
      "visiting node E\n",
      "stack is ['F', 'G', 'D', 'F', 'H', 'F']\n",
      "visiting node F\n",
      "stack is ['G', 'D', 'F', 'H', 'F']\n",
      "visiting node G\n",
      "stack is ['D', 'F', 'H', 'F']\n",
      "visiting node D\n",
      "stack is ['F', 'H', 'F', 'H']\n",
      "visiting node F\n",
      "stack is ['H', 'F', 'H']\n",
      "visiting node H\n",
      "found goal node\n"
     ]
    },
    {
     "data": {
      "text/plain": [
       "['E', 'D', 'G', 'B', 'C', 'A', 'F']"
      ]
     },
     "execution_count": 111,
     "metadata": {},
     "output_type": "execute_result"
    }
   ],
   "source": [
    "uniformed_search_recur(g,'A','H','bfs')"
   ]
  },
  {
   "cell_type": "code",
   "execution_count": 112,
   "metadata": {},
   "outputs": [
    {
     "name": "stdout",
     "output_type": "stream",
     "text": [
      "visiting node A\n",
      "stack is ['B', 'C', 'E']\n",
      "visiting node B\n",
      "stack is ['D', 'E', 'C', 'E']\n",
      "visiting node D\n",
      "stack is ['H', 'E', 'C', 'E']\n",
      "visiting node H\n",
      "found goal node\n"
     ]
    },
    {
     "data": {
      "text/plain": [
       "['B', 'A', 'D']"
      ]
     },
     "execution_count": 112,
     "metadata": {},
     "output_type": "execute_result"
    }
   ],
   "source": [
    "uniformed_search_recur(g,'A','H','dfs')"
   ]
  },
  {
   "cell_type": "markdown",
   "metadata": {},
   "source": [
    "## Exercício 2\n",
    "\n",
    "Implementar a versão final de DFS / BFS que funciona com a queue que mantém os caminhos parcais, como estudamos na sessão teórica requer de alguns truques.\n",
    "Existem várias maneiras válidas para implementar estes algoritmos de busca informada.\n",
    "\n",
    "Investiga como é que funciona o `yield` em Python\n",
    "Investiga como poderias usar chamadas recursivas em Python\n",
    "\n",
    "Usando estes recursos tenta implementar uma versão simples de busca não informada que possa fazer DFS ou BFS."
   ]
  },
  {
   "cell_type": "code",
   "execution_count": 9,
   "metadata": {},
   "outputs": [],
   "source": [
    "from collections import deque\n",
    "\n",
    "def uniformed_search(neighbour_list, root_node, goal, opt, visited_nodes=None, paths=None):\n",
    "    # Verifica se visited_nodes e paths são None, e se for, inicia-os.\n",
    "    if visited_nodes is None:\n",
    "        visited_nodes = set()\n",
    "    if paths is None:\n",
    "        paths = deque([[root_node]])  # Inicializa com o caminho contendo apenas o nó inicial\n",
    "    \n",
    "    # Se a fila de caminhos estiver vazia, retorna visited_nodes.\n",
    "    if not paths:\n",
    "        return list(visited_nodes)\n",
    "    \n",
    "    # Obtém o próximo caminho da fila.\n",
    "    current_path = paths.popleft()\n",
    "    # Obtém o último nó do caminho.\n",
    "    node = current_path[-1]\n",
    "    \n",
    "    # Se o nó for o objetivo, imprime o caminho mais curto encontrado e retorna visited_nodes.\n",
    "    if node == goal:\n",
    "        print('Path found:', current_path)\n",
    "        return list(visited_nodes)\n",
    "    \n",
    "    # Adiciona o nó visitado a visited_nodes.\n",
    "    visited_nodes.add(node)\n",
    "    \n",
    "    # Modifica a fila de caminhos de acordo com a opção selecionada.\n",
    "    if opt == 'dfs':\n",
    "        # Adiciona os filhos do nó ao início de cada caminho na fila.\n",
    "        paths = deque([current_path + [child] for child in neighbour_list[node] if child not in visited_nodes]) + paths\n",
    "    elif opt == 'bfs':\n",
    "        # Adiciona os filhos do nó ao final de cada caminho na fila.\n",
    "        paths.extend([current_path + [child] for child in neighbour_list[node] if child not in visited_nodes])\n",
    "    \n",
    "    print('queue is', paths)\n",
    "    \n",
    "    # Chama a função novamente recursivamente.\n",
    "    return uniformed_search(neighbour_list, root_node, goal, opt, visited_nodes, paths)\n"
   ]
  },
  {
   "cell_type": "code",
   "execution_count": 11,
   "metadata": {},
   "outputs": [
    {
     "name": "stdout",
     "output_type": "stream",
     "text": [
      "queue is deque([['A', 'B'], ['A', 'C'], ['A', 'E']])\n",
      "queue is deque([['A', 'B', 'D'], ['A', 'B', 'E'], ['A', 'C'], ['A', 'E']])\n",
      "queue is deque([['A', 'B', 'D', 'H'], ['A', 'B', 'E'], ['A', 'C'], ['A', 'E']])\n",
      "Path found: ['A', 'B', 'D', 'H']\n"
     ]
    },
    {
     "data": {
      "text/plain": [
       "['D', 'B', 'A']"
      ]
     },
     "execution_count": 11,
     "metadata": {},
     "output_type": "execute_result"
    }
   ],
   "source": [
    "uniformed_search(g,'A','H','dfs')"
   ]
  }
 ],
 "metadata": {
  "kernelspec": {
   "display_name": "data_science",
   "language": "python",
   "name": "python3"
  },
  "language_info": {
   "codemirror_mode": {
    "name": "ipython",
    "version": 3
   },
   "file_extension": ".py",
   "mimetype": "text/x-python",
   "name": "python",
   "nbconvert_exporter": "python",
   "pygments_lexer": "ipython3",
   "version": "3.11.9"
  }
 },
 "nbformat": 4,
 "nbformat_minor": 2
}
