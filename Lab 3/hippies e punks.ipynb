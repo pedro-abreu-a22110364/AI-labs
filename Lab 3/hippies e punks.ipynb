{
 "cells": [
  {
   "cell_type": "markdown",
   "metadata": {},
   "source": [
    "# Sessão prática 3: soluções "
   ]
  },
  {
   "cell_type": "code",
   "execution_count": 2,
   "metadata": {},
   "outputs": [],
   "source": [
    "# Questions 1 and 2: producing Python code to generate the *valid* states in the Punks and Hippies puzzle\n",
    "\n",
    "valid_states = []\n",
    "\n",
    "# Loop through all possible distributions of punks and hippies on both sides\n",
    "for punks_left in range(4):\n",
    "    for hippies_left in range(4):\n",
    "        punks_right = 3 - punks_left\n",
    "        hippies_right = 3 - hippies_left\n",
    "        for boat in ['left', 'right']:\n",
    "            # Ensure the total number of punks and hippies is always three on each side\n",
    "            # and punks never outnumber hippies on any side unless there are no hippies there\n",
    "            if ((hippies_left >= punks_left or hippies_left == 0) and\n",
    "               (hippies_right >= punks_right or hippies_right == 0)):\n",
    "                state = {\n",
    "                    \"punks_left\": punks_left,\n",
    "                    \"hippies_left\": hippies_left,\n",
    "                    \"punks_right\": punks_right,\n",
    "                    \"hippies_right\": hippies_right,\n",
    "                    \"boat\": boat\n",
    "                }\n",
    "                valid_states.append(state)\n"
   ]
  },
  {
   "cell_type": "code",
   "execution_count": 4,
   "metadata": {},
   "outputs": [],
   "source": [
    "# We do not need to generate the moves, we only need to define them\n",
    "# First (second) element: number of punks (hippoes) on boat, \n",
    "\n",
    "moves = [ (1,0), (0,1), (1,1), (2,0),(0,2)]"
   ]
  },
  {
   "cell_type": "code",
   "execution_count": 7,
   "metadata": {},
   "outputs": [],
   "source": [
    "# Question 3: generating the states I can reach from a given input state\n",
    "\n",
    "def get_valid_successor_states_and_moves(current_state, moves):\n",
    "    valid_successors = []\n",
    "\n",
    "    for punks_move, hippies_move in moves:\n",
    "        # Copy the current state to avoid mutating the original\n",
    "        new_state = current_state.copy()\n",
    "\n",
    "        if current_state['boat'] == 'left':\n",
    "            # Moving from left to right\n",
    "            new_state['punks_left'] -= punks_move\n",
    "            new_state['hippies_left'] -= hippies_move\n",
    "            new_state['punks_right'] += punks_move\n",
    "            new_state['hippies_right'] += hippies_move\n",
    "            new_state['boat'] = 'right'\n",
    "        else:\n",
    "            # Moving from right to left\n",
    "            new_state['punks_left'] += punks_move\n",
    "            new_state['hippies_left'] += hippies_move\n",
    "            new_state['punks_right'] -= punks_move\n",
    "            new_state['hippies_right'] -= hippies_move\n",
    "            new_state['boat'] = 'left'\n",
    "        \n",
    "        # Check if the new state is valid\n",
    "        if (0 <= new_state['punks_left'] <= 3 and 0 <= new_state['hippies_left'] <= 3 and\n",
    "            0 <= new_state['punks_right'] <= 3 and 0 <= new_state['hippies_right'] <= 3 and\n",
    "            (new_state['hippies_left'] >= new_state['punks_left'] or new_state['hippies_left'] == 0) and\n",
    "            (new_state['hippies_right'] >= new_state['punks_right'] or new_state['hippies_right'] == 0)):\n",
    "            # Pair each valid new state with the corresponding move\n",
    "            valid_successors.append((new_state, (punks_move, hippies_move)))\n",
    "    \n",
    "    return valid_successors\n"
   ]
  },
  {
   "cell_type": "code",
   "execution_count": 9,
   "metadata": {},
   "outputs": [
    {
     "data": {
      "text/plain": [
       "[({'punks_left': 3,\n",
       "   'hippies_left': 0,\n",
       "   'punks_right': 0,\n",
       "   'hippies_right': 3,\n",
       "   'boat': 'left'},\n",
       "  (1, 0)),\n",
       " ({'punks_left': 2,\n",
       "   'hippies_left': 2,\n",
       "   'punks_right': 1,\n",
       "   'hippies_right': 1,\n",
       "   'boat': 'left'},\n",
       "  (0, 2))]"
      ]
     },
     "execution_count": 9,
     "metadata": {},
     "output_type": "execute_result"
    }
   ],
   "source": [
    "get_valid_successor_states_and_moves({'punks_left': 2,\n",
    "  'hippies_left': 0,\n",
    "  'punks_right': 1,\n",
    "  'hippies_right': 3,\n",
    "  'boat': 'right'}, moves)"
   ]
  }
 ],
 "metadata": {
  "kernelspec": {
   "display_name": "data_science",
   "language": "python",
   "name": "python3"
  },
  "language_info": {
   "codemirror_mode": {
    "name": "ipython",
    "version": 3
   },
   "file_extension": ".py",
   "mimetype": "text/x-python",
   "name": "python",
   "nbconvert_exporter": "python",
   "pygments_lexer": "ipython3",
   "version": "3.11.0"
  }
 },
 "nbformat": 4,
 "nbformat_minor": 2
}
