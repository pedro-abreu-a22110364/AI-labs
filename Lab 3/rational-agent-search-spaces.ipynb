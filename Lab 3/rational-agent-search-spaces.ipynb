{
 "cells": [
  {
   "cell_type": "code",
   "execution_count": null,
   "metadata": {},
   "outputs": [],
   "source": [
    "listValido = []\n",
    "\n",
    "for punk_left in range(4):\n",
    "  for hippie_left in range(4):\n",
    "    punk_right = 3-punk_left\n",
    "    hippie_right = 3-hippie_left\n",
    "    for boat in ['left','right']:\n",
    "      if (punk_left <= hippie_left or hippie_left == 0 ) and (punk_right <= hippie_right or hippie_right == 0):\n",
    "        if not (boat == 'right' and (punk_left + hippie_left == 6)) and not(boat == 'left' and (punk_right + hippie_right == 6)):\n",
    "          novo_dicionario = {'punk_right': punk_right, 'hippie_right': hippie_right, 'punk_left': punk_left, 'hippie_left': hippie_left, 'boat' : boat}\n",
    "          listValido.append(novo_dicionario)\n",
    "\n",
    "for dicio in listValido:\n",
    "  print(dicio)\n",
    "\n",
    "print(len(listValido))"
   ]
  },
  {
   "cell_type": "code",
   "execution_count": null,
   "metadata": {},
   "outputs": [],
   "source": [
    "def moveAllow (listValido, estado):\n",
    "  listNewValid = {}\n",
    "  listMoves = {(0,1),(0,2),(1,1),(1,0),(2,0)}\n",
    "  for move in listMoves:\n",
    "    if estado['boat'] == 'left' and estado['punk_left'] - move[0] >= 0 and estado['hippie_left'] - move[1] >= 0:\n",
    "        novo_dicionario = {'punk_right': estado['punk_right'] + move[0], 'hippie_right': estado['hippie_right'] + move[1], 'punk_left': estado[punk_left] - move[0], 'hippie_left': estado[hippie_left] - move[1], 'boat' : boat}\n",
    "    if estado['boat'] == 'right' and estado['punk_right'] - move[0] >= 0 and estado['hippie_right'] - move[1] >= 0:\n",
    "        novo_dicionario = {'punk_right': estado['punk_right'] - move[0], 'hippie_right': estado['hippie_right'] - move[1], 'punk_left': estado[punk_left] + move[0], 'hippie_left': estado[hippie_left] + move[1], 'boat' : boat}\n",
    "\n",
    "    vali = False\n",
    "    for move in listValido:\n",
    "      if novo_dicionario == move:\n",
    "        listNewValid.append(novo_dicionario)\n",
    "\n",
    "for dicio in listNewValid:\n",
    "  print(dicio)\n",
    "\n",
    "print(len(listNewValid))"
   ]
  }
 ],
 "metadata": {
  "language_info": {
   "name": "python"
  }
 },
 "nbformat": 4,
 "nbformat_minor": 2
}
